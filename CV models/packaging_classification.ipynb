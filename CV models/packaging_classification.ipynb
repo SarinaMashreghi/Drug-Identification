{
  "cells": [
    {
      "cell_type": "markdown",
      "metadata": {
        "id": "view-in-github",
        "colab_type": "text"
      },
      "source": [
        "<a href=\"https://colab.research.google.com/github/SarinaMashreghi/Drug-Identification/blob/main/CV%20models/packaging_classification.ipynb\" target=\"_parent\"><img src=\"https://colab.research.google.com/assets/colab-badge.svg\" alt=\"Open In Colab\"/></a>"
      ]
    },
    {
      "cell_type": "code",
      "execution_count": null,
      "metadata": {
        "colab": {
          "base_uri": "https://localhost:8080/"
        },
        "id": "DUx3J51Uf0Do",
        "outputId": "d7f479ac-bc7e-49c1-c5e6-4d99bec11970"
      },
      "outputs": [
        {
          "output_type": "stream",
          "name": "stdout",
          "text": [
            "Mounted at /content/drive\n"
          ]
        }
      ],
      "source": [
        "from google.colab import drive\n",
        "\n",
        "drive.mount('/content/drive')"
      ]
    },
    {
      "cell_type": "markdown",
      "metadata": {
        "id": "AxX62SwcgEeR"
      },
      "source": [
        "#reading the data"
      ]
    },
    {
      "cell_type": "code",
      "execution_count": null,
      "metadata": {
        "id": "wPB7i185gHSF"
      },
      "outputs": [],
      "source": [
        "import zipfile\n",
        "\n",
        "train_ref = zipfile.ZipFile(\"/content/drive/MyDrive/SF_data/Packaging/packaging_train.zip\")\n",
        "train_ref.extractall()\n",
        "train_ref.close()\n",
        "\n",
        "test_ref = zipfile.ZipFile(\"/content/drive/MyDrive/SF_data/Packaging/packaging_test.zip\")\n",
        "test_ref.extractall()\n",
        "test_ref.close()"
      ]
    },
    {
      "cell_type": "code",
      "execution_count": null,
      "metadata": {
        "colab": {
          "base_uri": "https://localhost:8080/"
        },
        "id": "Y31mz1rPiv2E",
        "outputId": "0baa6e8c-348c-42b7-fe93-1a5b65bacc6e"
      },
      "outputs": [
        {
          "name": "stdout",
          "output_type": "stream",
          "text": [
            "there are 150 directories and 0 files in /content/train\n",
            "there are 0 directories and 18 files in /content/train/GTN 50 ml cream\n",
            "there are 0 directories and 18 files in /content/train/Cetal Sinus 20 capsules\n",
            "there are 0 directories and 18 files in /content/train/Fucidin 15 g cream\n",
            "there are 0 directories and 18 files in /content/train/Osteocare 120 ml liquid\n",
            "there are 0 directories and 18 files in /content/train/Diclac 30  gm gel\n",
            "there are 0 directories and 18 files in /content/train/Hemoclar 40 g cream\n",
            "there are 0 directories and 18 files in /content/train/Diflucan 7 capsules\n",
            "there are 0 directories and 18 files in /content/train/Free Nose 30 ml nasal spray\n",
            "there are 0 directories and 18 files in /content/train/Asmakast 30 tablets\n",
            "there are 0 directories and 18 files in /content/train/Milga 40 tablets\n",
            "there are 0 directories and 18 files in /content/train/Predsol 50 ml syrup\n",
            "there are 0 directories and 18 files in /content/train/Micropore nan Tape\n",
            "there are 0 directories and 18 files in /content/train/Benogen 10 sachets\n",
            "there are 0 directories and 18 files in /content/train/Candalkan Plus 14 tablets\n",
            "there are 0 directories and 18 files in /content/train/Zyrtec 20 tablets\n",
            "there are 0 directories and 18 files in /content/train/ImmuGuard 14 sachets\n",
            "there are 0 directories and 18 files in /content/train/Histazine-1 20 tablets\n",
            "there are 0 directories and 18 files in /content/train/Diclac 75 ID 20 tablets\n",
            "there are 0 directories and 18 files in /content/train/Brufen 30 tablets\n",
            "there are 0 directories and 18 files in /content/train/Flix 16 g nasal spray\n",
            "there are 0 directories and 18 files in /content/train/Miflonide 60 capsules\n",
            "there are 0 directories and 18 files in /content/train/Gengigel nan hydrogel\n",
            "there are 0 directories and 18 files in /content/train/Anuva 10 tablets\n",
            "there are 0 directories and 18 files in /content/train/Orovex Delicate 250 ml mouth wash\n",
            "there are 0 directories and 18 files in /content/train/Betaderm 30  gm cream\n",
            "there are 0 directories and 18 files in /content/train/Pandermal 15 g cream\n",
            "there are 0 directories and 18 files in /content/train/Zyrtec 10 ml oral drops\n",
            "there are 0 directories and 18 files in /content/train/Tears Guard 15 ml eye drops\n",
            "there are 0 directories and 18 files in /content/train/Antopral 14 tablets\n",
            "there are 0 directories and 18 files in /content/train/Vidrop 15 ml oral drops\n",
            "there are 0 directories and 18 files in /content/train/Corasore 25 oral drops\n",
            "there are 0 directories and 18 files in /content/train/Flumox 15 tablets\n",
            "there are 0 directories and 18 files in /content/train/Flumox 16 capsules\n",
            "there are 0 directories and 18 files in /content/train/Ciprofloxacin Tablets USP 39 10 tablets\n",
            "there are 0 directories and 18 files in /content/train/Streptoquin 10 tablets\n",
            "there are 0 directories and 18 files in /content/train/B.B.C. 25 ml spray solution\n",
            "there are 0 directories and 18 files in /content/train/Augmentin 14 tablets\n",
            "there are 0 directories and 18 files in /content/train/Oracure 30  gm oral gel\n",
            "there are 0 directories and 18 files in /content/train/Comfort Massage Gel 50 gm gel\n",
            "there are 0 directories and 18 files in /content/train/Frost 100 ml spray\n",
            "there are 0 directories and 18 files in /content/train/Mucophylline 125 ml syrup\n",
            "there are 0 directories and 18 files in /content/train/Hibiotic 16 tablets\n",
            "there are 0 directories and 18 files in /content/train/Minalax 10 tablets\n",
            "there are 0 directories and 18 files in /content/train/La-vie nan gel\n",
            "there are 0 directories and 18 files in /content/train/Picolax 15 ml oral drops\n",
            "there are 0 directories and 18 files in /content/train/Bivatracin 150 ml spray\n",
            "there are 0 directories and 18 files in /content/train/Neurovit 30 tablets\n",
            "there are 0 directories and 18 files in /content/train/Airoplast nan Tape\n",
            "there are 0 directories and 18 files in /content/train/Janumet 56 tablets\n",
            "there are 0 directories and 18 files in /content/train/Glucophage 50 tablets\n",
            "there are 0 directories and 18 files in /content/train/Cataflam 20 tablets\n",
            "there are 0 directories and 18 files in /content/train/Pedical nan syrup\n",
            "there are 0 directories and 18 files in /content/train/C-vit 15 ml oral drops\n",
            "there are 0 directories and 18 files in /content/train/Carbamide 30 g cream\n",
            "there are 0 directories and 18 files in /content/train/Pridocaine 15 g cream\n",
            "there are 0 directories and 18 files in /content/train/Conta-flu 20 tablets\n",
            "there are 0 directories and 18 files in /content/train/Fucidin 20 g cream\n",
            "there are 0 directories and 18 files in /content/train/Lactulose 120 ml syrup\n",
            "there are 0 directories and 18 files in /content/train/Tareg 40 mg tablets\n",
            "there are 0 directories and 18 files in /content/train/Panthenol 20 g cream\n",
            "there are 0 directories and 18 files in /content/train/Bronchicum Elixir 100 ml nan\n",
            "there are 0 directories and 18 files in /content/train/Alphintern 30 tablets\n",
            "there are 0 directories and 18 files in /content/train/Ambezim-G 30 tablets\n",
            "there are 0 directories and 18 files in /content/train/Brufen 150 ml syrup\n",
            "there are 0 directories and 18 files in /content/train/Foradil 30 capsules\n",
            "there are 0 directories and 18 files in /content/train/Feroglobin nan capsules\n",
            "there are 0 directories and 18 files in /content/train/Mebo 30 mg ointment\n",
            "there are 0 directories and 18 files in /content/train/Diflucan 1 capsule\n",
            "there are 0 directories and 18 files in /content/train/Dalacin C 10 capsules\n",
            "there are 0 directories and 18 files in /content/train/Farcolin 120 ml syrup\n",
            "there are 0 directories and 18 files in /content/train/Aggrex 60 tablets\n",
            "there are 0 directories and 18 files in /content/train/Daktarin 40 g gel oral\n",
            "there are 0 directories and 18 files in /content/train/Jusprin 60 tablets\n",
            "there are 0 directories and 18 files in /content/train/Rheumatizen 60 g cream\n",
            "there are 0 directories and 18 files in /content/train/Primrose Plus 30 capsules\n",
            "there are 0 directories and 18 files in /content/train/Paramol 20 tablets\n",
            "there are 0 directories and 18 files in /content/train/Prinorelax 10 capsules\n",
            "there are 0 directories and 18 files in /content/train/Ectomethrin 50 ml emulsion\n",
            "there are 0 directories and 18 files in /content/train/C Zinc 30 capsules\n",
            "there are 0 directories and 18 files in /content/train/Claritine 20 tablets\n",
            "there are 0 directories and 18 files in /content/train/Amrizole 20 tablets\n",
            "there are 0 directories and 18 files in /content/train/Visceralgine 120 ml syrup\n",
            "there are 0 directories and 18 files in /content/train/Solvadol 20 ml spray\n",
            "there are 0 directories and 18 files in /content/train/Sediproct 20 g cream\n",
            "there are 0 directories and 18 files in /content/train/Garamycin 15 g cream\n",
            "there are 0 directories and 18 files in /content/train/Salivex-L 10 ml paint\n",
            "there are 0 directories and 18 files in /content/train/Phenadone 100 ml syrup\n",
            "there are 0 directories and 18 files in /content/train/Daflon 30 tablets\n",
            "there are 0 directories and 18 files in /content/train/Bronchopro 100 ml syrup\n",
            "there are 0 directories and 18 files in /content/train/Davalindi 100 tablets\n",
            "there are 0 directories and 18 files in /content/train/Flector EP 25  gm gel\n",
            "there are 0 directories and 18 files in /content/train/Avosoya 30 capsules\n",
            "there are 0 directories and 18 files in /content/train/Zenta 100  gm cream\n",
            "there are 0 directories and 18 files in /content/train/Dentinox nan colic drops\n",
            "there are 0 directories and 18 files in /content/train/Vitacid C 12 tablets\n",
            "there are 0 directories and 18 files in /content/train/Lamifen 15  gm cream\n",
            "there are 0 directories and 18 files in /content/train/Rennie 96 chewable tablets\n",
            "there are 0 directories and 18 files in /content/train/Vitamax 15 capsules\n",
            "there are 0 directories and 18 files in /content/train/Ivypront 120 ml syrup\n",
            "there are 0 directories and 18 files in /content/train/Ceftriaxone 1 Vial\n",
            "there are 0 directories and 18 files in /content/train/Clarinase 14 repetabs\n",
            "there are 0 directories and 18 files in /content/train/Floxabact 10 tablets\n",
            "there are 0 directories and 18 files in /content/train/Fucidin 30 g cream\n",
            "there are 0 directories and 18 files in /content/train/Ezamol-C 20 tablets\n",
            "there are 0 directories and 18 files in /content/train/Cholerose 21 tablets\n",
            "there are 0 directories and 18 files in /content/train/Cemicresto 28 tablets\n",
            "there are 0 directories and 18 files in /content/train/Tentavair 160 mcg oral inhalation\n",
            "there are 0 directories and 18 files in /content/train/Fucicort 15 g cream\n",
            "there are 0 directories and 18 files in /content/train/Betadine 60  g ointment\n",
            "there are 0 directories and 18 files in /content/train/Clindasol 20 g gel\n",
            "there are 0 directories and 18 files in /content/train/Steronate 20 tablets\n",
            "there are 0 directories and 18 files in /content/train/Night & Day 10 tablets\n",
            "there are 0 directories and 18 files in /content/train/Apidone nan syrup\n",
            "there are 0 directories and 18 files in /content/train/Pentamix 120 ml syrup\n",
            "there are 0 directories and 18 files in /content/train/Adol 24 caplets\n",
            "there are 0 directories and 18 files in /content/train/Enrich 30 ml oral drops\n",
            "there are 0 directories and 18 files in /content/train/Ciprofar 10 tablets\n",
            "there are 0 directories and 18 files in /content/train/Catafast 9 sachets\n",
            "there are 0 directories and 18 files in /content/train/Reparil-Gel N 40 g gel\n",
            "there are 0 directories and 18 files in /content/train/Betadine 120 ml mouth wash\n",
            "there are 0 directories and 18 files in /content/train/Acretin 30 g cream\n",
            "there are 0 directories and 18 files in /content/train/SelokenZOC 28 tablets\n",
            "there are 0 directories and 18 files in /content/train/C-Retard 10 capsules\n",
            "there are 0 directories and 18 files in /content/train/Mucosta 20 tablets\n",
            "there are 0 directories and 18 files in /content/train/Lovir 10 tablets\n",
            "there are 0 directories and 18 files in /content/train/Cetal 60 ml oral suspension\n",
            "there are 0 directories and 18 files in /content/train/Enrich 100 ml syrup\n",
            "there are 0 directories and 18 files in /content/train/Choletimb 14 tablets\n",
            "there are 0 directories and 18 files in /content/train/Motilium 40 tablets\n",
            "there are 0 directories and 18 files in /content/train/Flagyl 20 tablets\n",
            "there are 0 directories and 18 files in /content/train/All-Vent 125 ml syrup\n",
            "there are 0 directories and 18 files in /content/train/Celebrex 15 capsules\n",
            "there are 0 directories and 18 files in /content/train/Betadine 120 ml solution\n",
            "there are 0 directories and 18 files in /content/train/Orex 60 ml solution\n",
            "there are 0 directories and 18 files in /content/train/Ferrofol 30 spansules\n",
            "there are 0 directories and 18 files in /content/train/Megamox 14 tablets\n",
            "there are 0 directories and 18 files in /content/train/Jogel 20  gm oral gel\n",
            "there are 0 directories and 18 files in /content/train/Multi-Relax 10 mg tablets\n",
            "there are 0 directories and 18 files in /content/train/Gabalepsy 20 capsules\n",
            "there are 0 directories and 18 files in /content/train/Haemostop 20 tablets\n",
            "there are 0 directories and 18 files in /content/train/Zantac 20 tablets\n",
            "there are 0 directories and 18 files in /content/train/Lamisil 15 g cream\n",
            "there are 0 directories and 18 files in /content/train/Fenistil 15 ml oral drops\n",
            "there are 0 directories and 18 files in /content/train/Remowax 15 ml ear drops\n",
            "there are 0 directories and 18 files in /content/train/Ciprodiazole 20 tablets\n",
            "there are 0 directories and 18 files in /content/train/Rhinopro 20 capsules\n",
            "there are 0 directories and 18 files in /content/train/Congestal 20 tablets\n",
            "there are 0 directories and 18 files in /content/train/Atoreza 28 tablets\n",
            "there are 0 directories and 18 files in /content/train/Mupirax 10 g ointment\n",
            "there are 0 directories and 18 files in /content/train/Midodrine 20 tablets\n"
          ]
        }
      ],
      "source": [
        "import os\n",
        "\n",
        "for dirpath, dirnames, filenames in os.walk('/content/train'):\n",
        "  print(f\"there are {len(dirnames)} directories and {len(filenames)} files in {dirpath}\")"
      ]
    },
    {
      "cell_type": "code",
      "execution_count": null,
      "metadata": {
        "colab": {
          "base_uri": "https://localhost:8080/"
        },
        "id": "n_JFUoK_jJAl",
        "outputId": "6124b544-2a85-485a-b8ab-d0349bd28f10"
      },
      "outputs": [
        {
          "name": "stdout",
          "output_type": "stream",
          "text": [
            "150\n"
          ]
        }
      ],
      "source": [
        "print(len(os.listdir('/content/train')))"
      ]
    },
    {
      "cell_type": "code",
      "execution_count": null,
      "metadata": {
        "colab": {
          "base_uri": "https://localhost:8080/"
        },
        "id": "sZmzWioZiA--",
        "outputId": "f10e8871-0076-4df4-e408-47e21e96576a"
      },
      "outputs": [
        {
          "name": "stdout",
          "output_type": "stream",
          "text": [
            "Found 2700 files belonging to 150 classes.\n",
            "Using 2160 files for training.\n",
            "Found 2700 files belonging to 150 classes.\n",
            "Using 540 files for validation.\n",
            "Found 1050 files belonging to 150 classes.\n"
          ]
        }
      ],
      "source": [
        "from tensorflow.keras.preprocessing import image_dataset_from_directory\n",
        "\n",
        "IMG_SIZE = (224,224)\n",
        "\n",
        "train_data = image_dataset_from_directory(directory='/content/train',\n",
        "                                          validation_split=0.2,\n",
        "                                          subset='training',\n",
        "                                          seed=42,\n",
        "                                          image_size=IMG_SIZE,\n",
        "                                          label_mode='categorical')\n",
        "\n",
        "valid_data = image_dataset_from_directory(directory='/content/train',\n",
        "                                          validation_split=0.2,\n",
        "                                          subset='validation',\n",
        "                                          seed=42,\n",
        "                                          image_size=IMG_SIZE,\n",
        "                                          label_mode='categorical')\n",
        "\n",
        "test_data = image_dataset_from_directory(directory='/content/test',\n",
        "                                          seed=42,\n",
        "                                          image_size=IMG_SIZE,\n",
        "                                          label_mode='categorical')"
      ]
    },
    {
      "cell_type": "code",
      "execution_count": null,
      "metadata": {
        "colab": {
          "base_uri": "https://localhost:8080/"
        },
        "id": "b9JxckNqB2UM",
        "outputId": "915db611-6c13-437d-ae04-4ecfbc53cb67"
      },
      "outputs": [
        {
          "output_type": "stream",
          "name": "stdout",
          "text": [
            "Found 2250 images belonging to 150 classes.\n",
            "Found 450 images belonging to 150 classes.\n",
            "Found 1050 images belonging to 150 classes.\n"
          ]
        }
      ],
      "source": [
        "from tensorflow.keras.preprocessing.image import ImageDataGenerator\n",
        "\n",
        "IMG_SIZE = (224, 224)\n",
        "train_gen = ImageDataGenerator(rotation_range=0.2,\n",
        "                               width_shift_range=0.2,\n",
        "                               height_shift_range=0.2,\n",
        "                               shear_range=0.2,\n",
        "                               zoom_range=0.2,\n",
        "                               rescale=1/255.,\n",
        "                               validation_split=0.2)\n",
        "\n",
        "test_gen = ImageDataGenerator(rescale=1/255.)\n",
        "\n",
        "train_data_2 = train_gen.flow_from_directory(directory='/content/train',\n",
        "                                             subset='training',\n",
        "                                             seed=42,\n",
        "                                             class_mode='categorical',\n",
        "                                             target_size=IMG_SIZE,\n",
        "                                             color_mode='rgb')\n",
        "\n",
        "valid_data_2 = train_gen.flow_from_directory(directory='/content/train',\n",
        "                                             subset='validation',\n",
        "                                             seed=42,\n",
        "                                             class_mode='categorical',\n",
        "                                             target_size=IMG_SIZE,\n",
        "                                             color_mode='rgb')\n",
        "\n",
        "test_data_2 = test_gen.flow_from_directory(directory='/content/test',\n",
        "                                             seed=42,\n",
        "                                             class_mode='categorical',\n",
        "                                             target_size=IMG_SIZE,\n",
        "                                             color_mode='rgb')"
      ]
    },
    {
      "cell_type": "code",
      "execution_count": null,
      "metadata": {
        "id": "c0-7p4XjjmnQ"
      },
      "outputs": [],
      "source": [
        "import datetime\n",
        "import tensorflow as tf\n",
        "\n",
        "def create_tensorboard_callbakc(dir_name, exp_name):\n",
        "  log_dir = dir_name + \"/\" + exp_name + \"/\" + datetime.datetime.now().strftime(\"%Y%m%d-%H%M%S\")\n",
        "  tboard_callback = tf.keras.callbacks.TensorBoard(log_dir=log_dir)\n",
        "  print(f\"saving tensorboard log files to: {log_dir}\")\n",
        "  return tboard_callback"
      ]
    },
    {
      "cell_type": "code",
      "execution_count": null,
      "metadata": {
        "id": "doA4r5-tarPQ"
      },
      "outputs": [],
      "source": [
        "from tensorflow.keras.callbacks import ModelCheckpoint\n",
        "\n",
        "def create_checkpoint_callback(model_name):\n",
        "  checkpoint_path = \"/content/drive/MyDrive/SF_data/trained_models/packaging_models/\"+model_name+'_checkpoint'\n",
        "  checkpoint_callback = ModelCheckpoint(checkpoint_path,\n",
        "                                        save_weights_only=True, \n",
        "                                        monitor=\"val_accuracy\",\n",
        "                                        save_best_only=True)\n",
        "  return checkpoint_callback"
      ]
    },
    {
      "cell_type": "code",
      "execution_count": null,
      "metadata": {
        "id": "JhZ_PSCsbQpn"
      },
      "outputs": [],
      "source": [
        "#data 1\n",
        "\n",
        "from tensorflow.keras.callbacks import EarlyStopping\n",
        "from tensorflow.keras.callbacks import ReduceLROnPlateau\n",
        "\n",
        "early_stopping = EarlyStopping(monitor='val_accuracy',\n",
        "                                patience=10,\n",
        "                                verbose=1,\n",
        "                                restore_best_weights=True,\n",
        "                                mode='max')\n",
        "\n",
        "reduce_lr = ReduceLROnPlateau(monitor='val_loss', factor=0.5, patience=2, min_lr=0.00001)"
      ]
    },
    {
      "cell_type": "code",
      "execution_count": null,
      "metadata": {
        "id": "lqZ6sVysbX1o"
      },
      "outputs": [],
      "source": [
        "from tensorflow.keras.layers.experimental import preprocessing\n",
        "\n",
        "data_aug = tf.keras.Sequential([\n",
        "    preprocessing.RandomFlip('horizontal'),\n",
        "    preprocessing.RandomRotation(0.2),\n",
        "    preprocessing.RandomHeight(0.2),\n",
        "    preprocessing.RandomWidth(0.2),\n",
        "    preprocessing.RandomZoom(0.2)\n",
        "], name=\"data_augmentation_layer\")"
      ]
    },
    {
      "cell_type": "code",
      "execution_count": null,
      "metadata": {
        "id": "Q97mpipDbqt9"
      },
      "outputs": [],
      "source": [
        "import tensorflow as tf\n",
        "from tensorflow.keras.layers import Conv2D, MaxPooling2D, Dense, Flatten, Dropout, BatchNormalization, GlobalMaxPooling2D\n",
        "from tensorflow.keras.models import Sequential \n",
        "from tensorflow.keras import regularizers\n",
        "from tensorflow.keras.optimizers import Adam"
      ]
    },
    {
      "cell_type": "markdown",
      "metadata": {
        "id": "_fCcv8HXjnc6"
      },
      "source": [
        "#Model 1: ResNet feature extraction"
      ]
    },
    {
      "cell_type": "code",
      "source": [
        "!pip install livelossplot"
      ],
      "metadata": {
        "colab": {
          "base_uri": "https://localhost:8080/"
        },
        "id": "Mze24iZrmKXl",
        "outputId": "f56aedf8-6df8-43c0-d279-b88dcb0e3972"
      },
      "execution_count": null,
      "outputs": [
        {
          "output_type": "stream",
          "name": "stdout",
          "text": [
            "Looking in indexes: https://pypi.org/simple, https://us-python.pkg.dev/colab-wheels/public/simple/\n",
            "Collecting livelossplot\n",
            "  Downloading livelossplot-0.5.5-py3-none-any.whl (22 kB)\n",
            "Requirement already satisfied: matplotlib in /usr/local/lib/python3.8/dist-packages (from livelossplot) (3.2.2)\n",
            "Requirement already satisfied: bokeh in /usr/local/lib/python3.8/dist-packages (from livelossplot) (2.3.3)\n",
            "Requirement already satisfied: numpy>=1.11.3 in /usr/local/lib/python3.8/dist-packages (from bokeh->livelossplot) (1.21.6)\n",
            "Requirement already satisfied: Jinja2>=2.9 in /usr/local/lib/python3.8/dist-packages (from bokeh->livelossplot) (2.11.3)\n",
            "Requirement already satisfied: packaging>=16.8 in /usr/local/lib/python3.8/dist-packages (from bokeh->livelossplot) (23.0)\n",
            "Requirement already satisfied: typing-extensions>=3.7.4 in /usr/local/lib/python3.8/dist-packages (from bokeh->livelossplot) (4.4.0)\n",
            "Requirement already satisfied: pillow>=7.1.0 in /usr/local/lib/python3.8/dist-packages (from bokeh->livelossplot) (7.1.2)\n",
            "Requirement already satisfied: python-dateutil>=2.1 in /usr/local/lib/python3.8/dist-packages (from bokeh->livelossplot) (2.8.2)\n",
            "Requirement already satisfied: tornado>=5.1 in /usr/local/lib/python3.8/dist-packages (from bokeh->livelossplot) (6.0.4)\n",
            "Requirement already satisfied: PyYAML>=3.10 in /usr/local/lib/python3.8/dist-packages (from bokeh->livelossplot) (6.0)\n",
            "Requirement already satisfied: kiwisolver>=1.0.1 in /usr/local/lib/python3.8/dist-packages (from matplotlib->livelossplot) (1.4.4)\n",
            "Requirement already satisfied: cycler>=0.10 in /usr/local/lib/python3.8/dist-packages (from matplotlib->livelossplot) (0.11.0)\n",
            "Requirement already satisfied: pyparsing!=2.0.4,!=2.1.2,!=2.1.6,>=2.0.1 in /usr/local/lib/python3.8/dist-packages (from matplotlib->livelossplot) (3.0.9)\n",
            "Requirement already satisfied: MarkupSafe>=0.23 in /usr/local/lib/python3.8/dist-packages (from Jinja2>=2.9->bokeh->livelossplot) (2.0.1)\n",
            "Requirement already satisfied: six>=1.5 in /usr/local/lib/python3.8/dist-packages (from python-dateutil>=2.1->bokeh->livelossplot) (1.15.0)\n",
            "Installing collected packages: livelossplot\n",
            "Successfully installed livelossplot-0.5.5\n"
          ]
        }
      ]
    },
    {
      "cell_type": "code",
      "execution_count": null,
      "metadata": {
        "colab": {
          "base_uri": "https://localhost:8080/",
          "height": 1000
        },
        "id": "Y6PTODP2j7cp",
        "outputId": "86173dd1-7043-4207-a96d-2c47a26da3f8"
      },
      "outputs": [
        {
          "output_type": "display_data",
          "data": {
            "text/plain": [
              "<Figure size 864x864 with 4 Axes>"
            ],
            "image/png": "[encoded data removed]"
          },
          "metadata": {
            "needs_background": "light"
          }
        },
        {
          "output_type": "stream",
          "name": "stdout",
          "text": [
            "accuracy\n",
            "\ttraining         \t (min:    0.152, max:    0.966, cur:    0.959)\n",
            "\tvalidation       \t (min:    0.313, max:    0.727, cur:    0.727)\n",
            "Loss\n",
            "\ttraining         \t (min:    0.121, max:    9.022, cur:    0.130)\n",
            "\tvalidation       \t (min:    1.972, max:    5.787, cur:    1.972)\n",
            "lr\n",
            "\tlr               \t (min:    0.001, max:    0.001, cur:    0.001)\n",
            "\b\b\b\b\b\b\b\b\b\b\b\b\b\b\b\b\b\b\b\b\b\b\b\b\b\b\b\b\b\b\b\b\b\b\b\b\b\b\b\b\b\b\b\b\b\b\b\b\b\b\b\b\b\b\b\b\b\b\b\b\b\b\b\b\b\b\b\b\b\b\b\b\b\b\b\b\b\b\b\b\b\b\r71/71 [==============================] - 423s 6s/step - loss: 0.1297 - accuracy: 0.9591 - val_loss: 1.9724 - val_accuracy: 0.7267 - lr: 5.0000e-04\n",
            "Epoch 13/60\n",
            "71/71 [==============================] - ETA: 0s - loss: 0.1588 - accuracy: 0.9471"
          ]
        }
      ],
      "source": [
        "from livelossplot import PlotLossesKeras\n",
        "base_model = tf.keras.applications.ResNet50V2(include_top=False)\n",
        "base_model.trainable = False\n",
        "\n",
        "\n",
        "inputs = tf.keras.layers.Input(shape=(224,224,3))\n",
        "\n",
        "x = base_model(inputs)\n",
        "x = tf.keras.layers.GlobalMaxPooling2D()(x)\n",
        "outputs = tf.keras.layers.Dense(150, activation='softmax')(x)\n",
        "\n",
        "res_model = tf.keras.Model(inputs, outputs)\n",
        "\n",
        "res_model.compile(loss='categorical_crossentropy',\n",
        "                  optimizer='adam',\n",
        "                  metrics=['accuracy'])\n",
        "\n",
        "tb_res = create_tensorboard_callbakc('tf_hub', 'resnet model fine tuning')\n",
        "cp_cb_res = create_checkpoint_callback('resnet model')\n",
        "\n",
        "\n",
        "res_history = res_model.fit(train_data_2, validation_data=valid_data_2, epochs=60, callbacks=[tb_res, cp_cb_res, early_stopping, reduce_lr, PlotLossesKeras()])\n",
        "\n",
        "# res_model.save('/content/drive/MyDrive/SF_data/trained_models/packaging_models/resnet_model_1.h5')\n",
        "\n",
        "# from tensorflow import lite\n",
        "# import tensorflow as tf\n",
        "# converter = lite.TFLiteConverter.from_keras_model(res_model)\n",
        "# tfmodel = converter.convert()\n",
        "# open(\"/content/drive/MyDrive/SF_data/trained_models/packaging_models/resnet_model_1.tflite\", \"wb\").write(tfmodel)"
      ]
    },
    {
      "cell_type": "code",
      "execution_count": null,
      "metadata": {
        "colab": {
          "base_uri": "https://localhost:8080/",
          "height": 346
        },
        "id": "-cLhoLad_CS-",
        "outputId": "c0d5289e-60ea-4ba3-cdac-381a61681e4d"
      },
      "outputs": [
        {
          "ename": "OSError",
          "evalue": "ignored",
          "output_type": "error",
          "traceback": [
            "\u001b[0;31m---------------------------------------------------------------------------\u001b[0m",
            "\u001b[0;31mOSError\u001b[0m                                   Traceback (most recent call last)",
            "\u001b[0;32m<ipython-input-11-dc9306805621>\u001b[0m in \u001b[0;36m<module>\u001b[0;34m\u001b[0m\n\u001b[1;32m     17\u001b[0m                   metrics=['accuracy'])\n\u001b[1;32m     18\u001b[0m \u001b[0;34m\u001b[0m\u001b[0m\n\u001b[0;32m---> 19\u001b[0;31m \u001b[0mloaded_model\u001b[0m \u001b[0;34m=\u001b[0m \u001b[0mtf\u001b[0m\u001b[0;34m.\u001b[0m\u001b[0mkeras\u001b[0m\u001b[0;34m.\u001b[0m\u001b[0mmodels\u001b[0m\u001b[0;34m.\u001b[0m\u001b[0mload_model\u001b[0m\u001b[0;34m(\u001b[0m\u001b[0;34m'/content/drive/MyDrive/SF_data/trained_models/packaging_models/resnet model_checkpoint.data'\u001b[0m\u001b[0;34m)\u001b[0m\u001b[0;34m\u001b[0m\u001b[0;34m\u001b[0m\u001b[0m\n\u001b[0m",
            "\u001b[0;32m/usr/local/lib/python3.8/dist-packages/keras/utils/traceback_utils.py\u001b[0m in \u001b[0;36merror_handler\u001b[0;34m(*args, **kwargs)\u001b[0m\n\u001b[1;32m     65\u001b[0m     \u001b[0;32mexcept\u001b[0m \u001b[0mException\u001b[0m \u001b[0;32mas\u001b[0m \u001b[0me\u001b[0m\u001b[0;34m:\u001b[0m  \u001b[0;31m# pylint: disable=broad-except\u001b[0m\u001b[0;34m\u001b[0m\u001b[0;34m\u001b[0m\u001b[0m\n\u001b[1;32m     66\u001b[0m       \u001b[0mfiltered_tb\u001b[0m \u001b[0;34m=\u001b[0m \u001b[0m_process_traceback_frames\u001b[0m\u001b[0;34m(\u001b[0m\u001b[0me\u001b[0m\u001b[0;34m.\u001b[0m\u001b[0m__traceback__\u001b[0m\u001b[0;34m)\u001b[0m\u001b[0;34m\u001b[0m\u001b[0;34m\u001b[0m\u001b[0m\n\u001b[0;32m---> 67\u001b[0;31m       \u001b[0;32mraise\u001b[0m \u001b[0me\u001b[0m\u001b[0;34m.\u001b[0m\u001b[0mwith_traceback\u001b[0m\u001b[0;34m(\u001b[0m\u001b[0mfiltered_tb\u001b[0m\u001b[0;34m)\u001b[0m \u001b[0;32mfrom\u001b[0m \u001b[0;32mNone\u001b[0m\u001b[0;34m\u001b[0m\u001b[0;34m\u001b[0m\u001b[0m\n\u001b[0m\u001b[1;32m     68\u001b[0m     \u001b[0;32mfinally\u001b[0m\u001b[0;34m:\u001b[0m\u001b[0;34m\u001b[0m\u001b[0;34m\u001b[0m\u001b[0m\n\u001b[1;32m     69\u001b[0m       \u001b[0;32mdel\u001b[0m \u001b[0mfiltered_tb\u001b[0m\u001b[0;34m\u001b[0m\u001b[0;34m\u001b[0m\u001b[0m\n",
            "\u001b[0;32m/usr/local/lib/python3.8/dist-packages/keras/saving/save.py\u001b[0m in \u001b[0;36mload_model\u001b[0;34m(filepath, custom_objects, compile, options)\u001b[0m\n\u001b[1;32m    204\u001b[0m         \u001b[0;32mif\u001b[0m \u001b[0misinstance\u001b[0m\u001b[0;34m(\u001b[0m\u001b[0mfilepath_str\u001b[0m\u001b[0;34m,\u001b[0m \u001b[0mstr\u001b[0m\u001b[0;34m)\u001b[0m\u001b[0;34m:\u001b[0m\u001b[0;34m\u001b[0m\u001b[0;34m\u001b[0m\u001b[0m\n\u001b[1;32m    205\u001b[0m           \u001b[0;32mif\u001b[0m \u001b[0;32mnot\u001b[0m \u001b[0mtf\u001b[0m\u001b[0;34m.\u001b[0m\u001b[0mio\u001b[0m\u001b[0;34m.\u001b[0m\u001b[0mgfile\u001b[0m\u001b[0;34m.\u001b[0m\u001b[0mexists\u001b[0m\u001b[0;34m(\u001b[0m\u001b[0mfilepath_str\u001b[0m\u001b[0;34m)\u001b[0m\u001b[0;34m:\u001b[0m\u001b[0;34m\u001b[0m\u001b[0;34m\u001b[0m\u001b[0m\n\u001b[0;32m--> 206\u001b[0;31m             \u001b[0;32mraise\u001b[0m \u001b[0mIOError\u001b[0m\u001b[0;34m(\u001b[0m\u001b[0;34mf'No file or directory found at {filepath_str}'\u001b[0m\u001b[0;34m)\u001b[0m\u001b[0;34m\u001b[0m\u001b[0;34m\u001b[0m\u001b[0m\n\u001b[0m\u001b[1;32m    207\u001b[0m \u001b[0;34m\u001b[0m\u001b[0m\n\u001b[1;32m    208\u001b[0m           \u001b[0;32mif\u001b[0m \u001b[0mtf\u001b[0m\u001b[0;34m.\u001b[0m\u001b[0mio\u001b[0m\u001b[0;34m.\u001b[0m\u001b[0mgfile\u001b[0m\u001b[0;34m.\u001b[0m\u001b[0misdir\u001b[0m\u001b[0;34m(\u001b[0m\u001b[0mfilepath_str\u001b[0m\u001b[0;34m)\u001b[0m\u001b[0;34m:\u001b[0m\u001b[0;34m\u001b[0m\u001b[0;34m\u001b[0m\u001b[0m\n",
            "\u001b[0;31mOSError\u001b[0m: No file or directory found at /content/drive/MyDrive/SF_data/trained_models/packaging_models/resnet model_checkpoint.data"
          ]
        }
      ],
      "source": [
        "import tensorflow as tf\n",
        "\n",
        "base_model = tf.keras.applications.ResNet50V2(include_top=False)\n",
        "base_model.trainable = False\n",
        "\n",
        "\n",
        "inputs = tf.keras.layers.Input(shape=(224,224,3))\n",
        "\n",
        "x = base_model(inputs)\n",
        "x = tf.keras.layers.GlobalMaxPooling2D()(x)\n",
        "outputs = tf.keras.layers.Dense(150, activation='softmax')(x)\n",
        "\n",
        "loaded_model = tf.keras.Model(inputs, outputs)\n",
        "\n",
        "loaded_model.compile(loss='categorical_crossentropy',\n",
        "                  optimizer='adam',\n",
        "                  metrics=['accuracy'])\n",
        "\n",
        "loaded_model = tf.keras.models.load_model('/content/drive/MyDrive/SF_data/trained_models/packaging_models/resnet model_checkpoint.data')"
      ]
    },
    {
      "cell_type": "markdown",
      "metadata": {
        "id": "tlVtaZ8Cam0a"
      },
      "source": [
        "#Model 2: VGG"
      ]
    },
    {
      "cell_type": "code",
      "execution_count": null,
      "metadata": {
        "colab": {
          "base_uri": "https://localhost:8080/"
        },
        "id": "uBocuIWLaqIY",
        "outputId": "95b45195-5d21-4e62-8436-095fbca927bd"
      },
      "outputs": [
        {
          "name": "stdout",
          "output_type": "stream",
          "text": [
            "Downloading data from https://storage.googleapis.com/tensorflow/keras-applications/vgg16/vgg16_weights_tf_dim_ordering_tf_kernels_notop.h5\n",
            "58889256/58889256 [==============================] - 2s 0us/step\n"
          ]
        }
      ],
      "source": [
        "img_shape = (IMG_SIZE[0], IMG_SIZE[1], 3)\n",
        "base_vgg = tf.keras.applications.vgg16.VGG16(include_top=False, input_shape=img_shape)"
      ]
    },
    {
      "cell_type": "code",
      "execution_count": null,
      "metadata": {
        "colab": {
          "base_uri": "https://localhost:8080/"
        },
        "id": "lMyW5qNxcBjy",
        "outputId": "c6648663-d2c2-4e6f-9972-4cfcd459c664"
      },
      "outputs": [
        {
          "name": "stdout",
          "output_type": "stream",
          "text": [
            "Epoch 1/100\n",
            "68/68 [==============================] - 387s 5s/step - loss: 5.0405 - accuracy: 0.0093 - val_loss: 5.1336 - val_accuracy: 0.0037 - lr: 0.0100\n",
            "Epoch 2/100\n",
            "68/68 [==============================] - 358s 5s/step - loss: 5.0619 - accuracy: 0.0069 - val_loss: 5.1298 - val_accuracy: 0.0019 - lr: 0.0100\n",
            "Epoch 3/100\n",
            "68/68 [==============================] - 340s 5s/step - loss: 5.0500 - accuracy: 0.0056 - val_loss: 5.1268 - val_accuracy: 0.0037 - lr: 0.0100\n",
            "Epoch 4/100\n",
            "68/68 [==============================] - 336s 5s/step - loss: 5.0255 - accuracy: 0.0106 - val_loss: 5.2086 - val_accuracy: 0.0037 - lr: 0.0100\n",
            "Epoch 5/100\n",
            "68/68 [==============================] - 316s 4s/step - loss: 5.0336 - accuracy: 0.0088 - val_loss: 5.1787 - val_accuracy: 0.0037 - lr: 0.0100\n",
            "Epoch 6/100\n",
            "68/68 [==============================] - 306s 4s/step - loss: 5.0198 - accuracy: 0.0097 - val_loss: 5.1636 - val_accuracy: 0.0037 - lr: 0.0050\n",
            "Epoch 7/100\n",
            "68/68 [==============================] - 315s 4s/step - loss: 5.0311 - accuracy: 0.0056 - val_loss: 5.1410 - val_accuracy: 0.0056 - lr: 0.0050\n",
            "Epoch 8/100\n",
            "68/68 [==============================] - 295s 4s/step - loss: 5.0438 - accuracy: 0.0042 - val_loss: 5.1164 - val_accuracy: 0.0056 - lr: 0.0025\n",
            "Epoch 9/100\n",
            "68/68 [==============================] - 284s 4s/step - loss: 5.0420 - accuracy: 0.0042 - val_loss: 5.0947 - val_accuracy: 0.0037 - lr: 0.0025\n",
            "Epoch 10/100\n",
            "68/68 [==============================] - 278s 4s/step - loss: 5.0371 - accuracy: 0.0037 - val_loss: 5.0885 - val_accuracy: 0.0019 - lr: 0.0025\n",
            "Epoch 11/100\n",
            "68/68 [==============================] - 283s 4s/step - loss: 5.0297 - accuracy: 0.0074 - val_loss: 5.0810 - val_accuracy: 0.0000e+00 - lr: 0.0025\n",
            "Epoch 12/100\n",
            "68/68 [==============================] - 274s 4s/step - loss: 5.0278 - accuracy: 0.0051 - val_loss: 5.0819 - val_accuracy: 0.0000e+00 - lr: 0.0025\n",
            "Epoch 13/100\n",
            "68/68 [==============================] - 267s 4s/step - loss: 5.0223 - accuracy: 0.0074 - val_loss: 5.0782 - val_accuracy: 0.0000e+00 - lr: 0.0025\n",
            "Epoch 14/100\n",
            "68/68 [==============================] - 272s 4s/step - loss: 5.0213 - accuracy: 0.0088 - val_loss: 5.0749 - val_accuracy: 0.0000e+00 - lr: 0.0025\n",
            "Epoch 15/100\n",
            "68/68 [==============================] - 269s 4s/step - loss: 5.0186 - accuracy: 0.0037 - val_loss: 5.0799 - val_accuracy: 0.0019 - lr: 0.0025\n",
            "Epoch 16/100\n",
            "68/68 [==============================] - 267s 4s/step - loss: 5.0178 - accuracy: 0.0051 - val_loss: 5.0773 - val_accuracy: 0.0000e+00 - lr: 0.0025\n",
            "Epoch 17/100\n",
            "68/68 [==============================] - ETA: 0s - loss: 5.0105 - accuracy: 0.0065Restoring model weights from the end of the best epoch: 7.\n",
            "68/68 [==============================] - 240s 3s/step - loss: 5.0105 - accuracy: 0.0065 - val_loss: 5.0802 - val_accuracy: 0.0000e+00 - lr: 0.0012\n",
            "Epoch 17: early stopping\n"
          ]
        },
        {
          "data": {
            "text/plain": [
              "<keras.callbacks.History at 0x7efec91fb580>"
            ]
          },
          "execution_count": 22,
          "metadata": {},
          "output_type": "execute_result"
        }
      ],
      "source": [
        "lr = 0.01\n",
        "\n",
        "x = data_aug(base_vgg.input)\n",
        "x = base_vgg(x, training=False)\n",
        "x = BatchNormalization(axis=-1, momentum=0.99, epsilon=0.001 )(x)\n",
        "# x = Dense(512, kernel_regularizer = regularizers.l2(l = 0.016),activity_regularizer=regularizers.l1(0.006),\n",
        "#                 bias_regularizer=regularizers.l1(0.006) ,activation='leaky_relu')(x)\n",
        "x = GlobalMaxPooling2D()(x)\n",
        "\n",
        "x=Dropout(rate=0.2)(x)       \n",
        "output=Dense(150, activation='softmax')(x)\n",
        "\n",
        "vgg_model = tf.keras.Model(base_vgg.input, output)\n",
        "\n",
        "vgg_model.compile(loss='categorical_crossentropy',\n",
        "                  optimizer=tf.keras.optimizers.Adam(learning_rate=lr),\n",
        "                  metrics=[\"accuracy\"])\n",
        "\n",
        "vgg_model.fit(train_data, \n",
        "              validation_data=valid_data,\n",
        "              epochs=100, \n",
        "              callbacks=[reduce_lr, checkpoint_callback, early_stopping])"
      ]
    },
    {
      "cell_type": "markdown",
      "metadata": {
        "id": "Hem9E3KP-Ybo"
      },
      "source": [
        "##VGG model 2"
      ]
    },
    {
      "cell_type": "code",
      "execution_count": null,
      "metadata": {
        "id": "byRIVe7NdFLH"
      },
      "outputs": [],
      "source": [
        "num_classes = 150\n",
        "lr = 0.001\n",
        "num_epochs = 100\n",
        "\n",
        "x = Flatten()(base_vgg.output)\n",
        "x = Dense(256, activation='relu', kernel_regularizer = regularizers.l2(l = 0.016),activity_regularizer=regularizers.l1(0.006))(x)\n",
        "x = Dense(256, activation='relu', kernel_regularizer = regularizers.l2(l = 0.016),activity_regularizer=regularizers.l1(0.006))(x)\n",
        "x = Dense(num_classes, activation='softmax')(x)\n",
        "\n",
        "vgg_model_2 = tf.keras.Model(base_vgg.input, x)\n",
        "\n",
        "vgg_model_2.compile(loss='categorical_crossentropy',\n",
        "                    optimizer=Adam(learning_rate=lr),\n",
        "                    metrics=['accuracy'])\n",
        "\n",
        "tb_cb_vgg_2 = create_tensorboard_callback('tf_hub', 'VGG model transfer learning')\n",
        "chck_cb = create_checkpoint_callback('vgg_2')\n",
        "\n",
        "history_vgg_2 = vgg_model_2.fit(train_data_2, \n",
        "                                validation_data=valid_data_2,\n",
        "                                epochs=num_epochs,\n",
        "                                callbacks=[tb_cb_vgg_2, reduce_lr, early_stopping, chck_cb])\n"
      ]
    },
    {
      "cell_type": "markdown",
      "metadata": {
        "id": "ykBvZ2JxBs5c"
      },
      "source": [
        "#EfficientNet"
      ]
    },
    {
      "cell_type": "code",
      "execution_count": null,
      "metadata": {
        "colab": {
          "base_uri": "https://localhost:8080/",
          "height": 433
        },
        "id": "F__SfPY5BuuZ",
        "outputId": "70f43c90-8601-45ff-fa7d-d29fab2e6597"
      },
      "outputs": [
        {
          "name": "stdout",
          "output_type": "stream",
          "text": [
            "Downloading data from https://storage.googleapis.com/keras-applications/efficientnetb5_notop.h5\n",
            "115263384/115263384 [==============================] - 1s 0us/step\n",
            "saving tensorboard log files to: tf_hub/efficientnet model/20230207-180550\n",
            "Epoch 1/50\n",
            "26/71 [=========>....................] - ETA: 10:27 - loss: 35.9180 - accuracy: 0.0024"
          ]
        },
        {
          "ename": "KeyboardInterrupt",
          "evalue": "ignored",
          "output_type": "error",
          "traceback": [
            "\u001b[0;31m---------------------------------------------------------------------------\u001b[0m",
            "\u001b[0;31mKeyboardInterrupt\u001b[0m                         Traceback (most recent call last)",
            "\u001b[0;32m<ipython-input-14-060da0245e9f>\u001b[0m in \u001b[0;36m<module>\u001b[0;34m\u001b[0m\n\u001b[1;32m     19\u001b[0m \u001b[0;34m\u001b[0m\u001b[0m\n\u001b[1;32m     20\u001b[0m \u001b[0;34m\u001b[0m\u001b[0m\n\u001b[0;32m---> 21\u001b[0;31m \u001b[0mefn_history\u001b[0m \u001b[0;34m=\u001b[0m \u001b[0mefn_model\u001b[0m\u001b[0;34m.\u001b[0m\u001b[0mfit\u001b[0m\u001b[0;34m(\u001b[0m\u001b[0mtrain_data_2\u001b[0m\u001b[0;34m,\u001b[0m \u001b[0mvalidation_data\u001b[0m\u001b[0;34m=\u001b[0m\u001b[0mvalid_data_2\u001b[0m\u001b[0;34m,\u001b[0m \u001b[0mepochs\u001b[0m\u001b[0;34m=\u001b[0m\u001b[0;36m50\u001b[0m\u001b[0;34m,\u001b[0m \u001b[0mcallbacks\u001b[0m\u001b[0;34m=\u001b[0m\u001b[0;34m[\u001b[0m\u001b[0mtb_efn\u001b[0m\u001b[0;34m,\u001b[0m \u001b[0mcp_cb_efn\u001b[0m\u001b[0;34m,\u001b[0m \u001b[0mearly_stopping\u001b[0m\u001b[0;34m,\u001b[0m \u001b[0mreduce_lr\u001b[0m\u001b[0;34m]\u001b[0m\u001b[0;34m)\u001b[0m\u001b[0;34m\u001b[0m\u001b[0;34m\u001b[0m\u001b[0m\n\u001b[0m",
            "\u001b[0;32m/usr/local/lib/python3.8/dist-packages/keras/utils/traceback_utils.py\u001b[0m in \u001b[0;36merror_handler\u001b[0;34m(*args, **kwargs)\u001b[0m\n\u001b[1;32m     62\u001b[0m     \u001b[0mfiltered_tb\u001b[0m \u001b[0;34m=\u001b[0m \u001b[0;32mNone\u001b[0m\u001b[0;34m\u001b[0m\u001b[0;34m\u001b[0m\u001b[0m\n\u001b[1;32m     63\u001b[0m     \u001b[0;32mtry\u001b[0m\u001b[0;34m:\u001b[0m\u001b[0;34m\u001b[0m\u001b[0;34m\u001b[0m\u001b[0m\n\u001b[0;32m---> 64\u001b[0;31m       \u001b[0;32mreturn\u001b[0m \u001b[0mfn\u001b[0m\u001b[0;34m(\u001b[0m\u001b[0;34m*\u001b[0m\u001b[0margs\u001b[0m\u001b[0;34m,\u001b[0m \u001b[0;34m**\u001b[0m\u001b[0mkwargs\u001b[0m\u001b[0;34m)\u001b[0m\u001b[0;34m\u001b[0m\u001b[0;34m\u001b[0m\u001b[0m\n\u001b[0m\u001b[1;32m     65\u001b[0m     \u001b[0;32mexcept\u001b[0m \u001b[0mException\u001b[0m \u001b[0;32mas\u001b[0m \u001b[0me\u001b[0m\u001b[0;34m:\u001b[0m  \u001b[0;31m# pylint: disable=broad-except\u001b[0m\u001b[0;34m\u001b[0m\u001b[0;34m\u001b[0m\u001b[0m\n\u001b[1;32m     66\u001b[0m       \u001b[0mfiltered_tb\u001b[0m \u001b[0;34m=\u001b[0m \u001b[0m_process_traceback_frames\u001b[0m\u001b[0;34m(\u001b[0m\u001b[0me\u001b[0m\u001b[0;34m.\u001b[0m\u001b[0m__traceback__\u001b[0m\u001b[0;34m)\u001b[0m\u001b[0;34m\u001b[0m\u001b[0;34m\u001b[0m\u001b[0m\n",
            "\u001b[0;32m/usr/local/lib/python3.8/dist-packages/keras/engine/training.py\u001b[0m in \u001b[0;36mfit\u001b[0;34m(self, x, y, batch_size, epochs, verbose, callbacks, validation_split, validation_data, shuffle, class_weight, sample_weight, initial_epoch, steps_per_epoch, validation_steps, validation_batch_size, validation_freq, max_queue_size, workers, use_multiprocessing)\u001b[0m\n\u001b[1;32m   1407\u001b[0m                 _r=1):\n\u001b[1;32m   1408\u001b[0m               \u001b[0mcallbacks\u001b[0m\u001b[0;34m.\u001b[0m\u001b[0mon_train_batch_begin\u001b[0m\u001b[0;34m(\u001b[0m\u001b[0mstep\u001b[0m\u001b[0;34m)\u001b[0m\u001b[0;34m\u001b[0m\u001b[0;34m\u001b[0m\u001b[0m\n\u001b[0;32m-> 1409\u001b[0;31m               \u001b[0mtmp_logs\u001b[0m \u001b[0;34m=\u001b[0m \u001b[0mself\u001b[0m\u001b[0;34m.\u001b[0m\u001b[0mtrain_function\u001b[0m\u001b[0;34m(\u001b[0m\u001b[0miterator\u001b[0m\u001b[0;34m)\u001b[0m\u001b[0;34m\u001b[0m\u001b[0;34m\u001b[0m\u001b[0m\n\u001b[0m\u001b[1;32m   1410\u001b[0m               \u001b[0;32mif\u001b[0m \u001b[0mdata_handler\u001b[0m\u001b[0;34m.\u001b[0m\u001b[0mshould_sync\u001b[0m\u001b[0;34m:\u001b[0m\u001b[0;34m\u001b[0m\u001b[0;34m\u001b[0m\u001b[0m\n\u001b[1;32m   1411\u001b[0m                 \u001b[0mcontext\u001b[0m\u001b[0;34m.\u001b[0m\u001b[0masync_wait\u001b[0m\u001b[0;34m(\u001b[0m\u001b[0;34m)\u001b[0m\u001b[0;34m\u001b[0m\u001b[0;34m\u001b[0m\u001b[0m\n",
            "\u001b[0;32m/usr/local/lib/python3.8/dist-packages/tensorflow/python/util/traceback_utils.py\u001b[0m in \u001b[0;36merror_handler\u001b[0;34m(*args, **kwargs)\u001b[0m\n\u001b[1;32m    148\u001b[0m     \u001b[0mfiltered_tb\u001b[0m \u001b[0;34m=\u001b[0m \u001b[0;32mNone\u001b[0m\u001b[0;34m\u001b[0m\u001b[0;34m\u001b[0m\u001b[0m\n\u001b[1;32m    149\u001b[0m     \u001b[0;32mtry\u001b[0m\u001b[0;34m:\u001b[0m\u001b[0;34m\u001b[0m\u001b[0;34m\u001b[0m\u001b[0m\n\u001b[0;32m--> 150\u001b[0;31m       \u001b[0;32mreturn\u001b[0m \u001b[0mfn\u001b[0m\u001b[0;34m(\u001b[0m\u001b[0;34m*\u001b[0m\u001b[0margs\u001b[0m\u001b[0;34m,\u001b[0m \u001b[0;34m**\u001b[0m\u001b[0mkwargs\u001b[0m\u001b[0;34m)\u001b[0m\u001b[0;34m\u001b[0m\u001b[0;34m\u001b[0m\u001b[0m\n\u001b[0m\u001b[1;32m    151\u001b[0m     \u001b[0;32mexcept\u001b[0m \u001b[0mException\u001b[0m \u001b[0;32mas\u001b[0m \u001b[0me\u001b[0m\u001b[0;34m:\u001b[0m\u001b[0;34m\u001b[0m\u001b[0;34m\u001b[0m\u001b[0m\n\u001b[1;32m    152\u001b[0m       \u001b[0mfiltered_tb\u001b[0m \u001b[0;34m=\u001b[0m \u001b[0m_process_traceback_frames\u001b[0m\u001b[0;34m(\u001b[0m\u001b[0me\u001b[0m\u001b[0;34m.\u001b[0m\u001b[0m__traceback__\u001b[0m\u001b[0;34m)\u001b[0m\u001b[0;34m\u001b[0m\u001b[0;34m\u001b[0m\u001b[0m\n",
            "\u001b[0;32m/usr/local/lib/python3.8/dist-packages/tensorflow/python/eager/def_function.py\u001b[0m in \u001b[0;36m__call__\u001b[0;34m(self, *args, **kwds)\u001b[0m\n\u001b[1;32m    913\u001b[0m \u001b[0;34m\u001b[0m\u001b[0m\n\u001b[1;32m    914\u001b[0m       \u001b[0;32mwith\u001b[0m \u001b[0mOptionalXlaContext\u001b[0m\u001b[0;34m(\u001b[0m\u001b[0mself\u001b[0m\u001b[0;34m.\u001b[0m\u001b[0m_jit_compile\u001b[0m\u001b[0;34m)\u001b[0m\u001b[0;34m:\u001b[0m\u001b[0;34m\u001b[0m\u001b[0;34m\u001b[0m\u001b[0m\n\u001b[0;32m--> 915\u001b[0;31m         \u001b[0mresult\u001b[0m \u001b[0;34m=\u001b[0m \u001b[0mself\u001b[0m\u001b[0;34m.\u001b[0m\u001b[0m_call\u001b[0m\u001b[0;34m(\u001b[0m\u001b[0;34m*\u001b[0m\u001b[0margs\u001b[0m\u001b[0;34m,\u001b[0m \u001b[0;34m**\u001b[0m\u001b[0mkwds\u001b[0m\u001b[0;34m)\u001b[0m\u001b[0;34m\u001b[0m\u001b[0;34m\u001b[0m\u001b[0m\n\u001b[0m\u001b[1;32m    916\u001b[0m \u001b[0;34m\u001b[0m\u001b[0m\n\u001b[1;32m    917\u001b[0m       \u001b[0mnew_tracing_count\u001b[0m \u001b[0;34m=\u001b[0m \u001b[0mself\u001b[0m\u001b[0;34m.\u001b[0m\u001b[0mexperimental_get_tracing_count\u001b[0m\u001b[0;34m(\u001b[0m\u001b[0;34m)\u001b[0m\u001b[0;34m\u001b[0m\u001b[0;34m\u001b[0m\u001b[0m\n",
            "\u001b[0;32m/usr/local/lib/python3.8/dist-packages/tensorflow/python/eager/def_function.py\u001b[0m in \u001b[0;36m_call\u001b[0;34m(self, *args, **kwds)\u001b[0m\n\u001b[1;32m    945\u001b[0m       \u001b[0;31m# In this case we have created variables on the first call, so we run the\u001b[0m\u001b[0;34m\u001b[0m\u001b[0;34m\u001b[0m\u001b[0;34m\u001b[0m\u001b[0m\n\u001b[1;32m    946\u001b[0m       \u001b[0;31m# defunned version which is guaranteed to never create variables.\u001b[0m\u001b[0;34m\u001b[0m\u001b[0;34m\u001b[0m\u001b[0;34m\u001b[0m\u001b[0m\n\u001b[0;32m--> 947\u001b[0;31m       \u001b[0;32mreturn\u001b[0m \u001b[0mself\u001b[0m\u001b[0;34m.\u001b[0m\u001b[0m_stateless_fn\u001b[0m\u001b[0;34m(\u001b[0m\u001b[0;34m*\u001b[0m\u001b[0margs\u001b[0m\u001b[0;34m,\u001b[0m \u001b[0;34m**\u001b[0m\u001b[0mkwds\u001b[0m\u001b[0;34m)\u001b[0m  \u001b[0;31m# pylint: disable=not-callable\u001b[0m\u001b[0;34m\u001b[0m\u001b[0;34m\u001b[0m\u001b[0m\n\u001b[0m\u001b[1;32m    948\u001b[0m     \u001b[0;32melif\u001b[0m \u001b[0mself\u001b[0m\u001b[0;34m.\u001b[0m\u001b[0m_stateful_fn\u001b[0m \u001b[0;32mis\u001b[0m \u001b[0;32mnot\u001b[0m \u001b[0;32mNone\u001b[0m\u001b[0;34m:\u001b[0m\u001b[0;34m\u001b[0m\u001b[0;34m\u001b[0m\u001b[0m\n\u001b[1;32m    949\u001b[0m       \u001b[0;31m# Release the lock early so that multiple threads can perform the call\u001b[0m\u001b[0;34m\u001b[0m\u001b[0;34m\u001b[0m\u001b[0;34m\u001b[0m\u001b[0m\n",
            "\u001b[0;32m/usr/local/lib/python3.8/dist-packages/tensorflow/python/eager/function.py\u001b[0m in \u001b[0;36m__call__\u001b[0;34m(self, *args, **kwargs)\u001b[0m\n\u001b[1;32m   2451\u001b[0m       (graph_function,\n\u001b[1;32m   2452\u001b[0m        filtered_flat_args) = self._maybe_define_function(args, kwargs)\n\u001b[0;32m-> 2453\u001b[0;31m     return graph_function._call_flat(\n\u001b[0m\u001b[1;32m   2454\u001b[0m         filtered_flat_args, captured_inputs=graph_function.captured_inputs)  # pylint: disable=protected-access\n\u001b[1;32m   2455\u001b[0m \u001b[0;34m\u001b[0m\u001b[0m\n",
            "\u001b[0;32m/usr/local/lib/python3.8/dist-packages/tensorflow/python/eager/function.py\u001b[0m in \u001b[0;36m_call_flat\u001b[0;34m(self, args, captured_inputs, cancellation_manager)\u001b[0m\n\u001b[1;32m   1858\u001b[0m         and executing_eagerly):\n\u001b[1;32m   1859\u001b[0m       \u001b[0;31m# No tape is watching; skip to running the function.\u001b[0m\u001b[0;34m\u001b[0m\u001b[0;34m\u001b[0m\u001b[0;34m\u001b[0m\u001b[0m\n\u001b[0;32m-> 1860\u001b[0;31m       return self._build_call_outputs(self._inference_function.call(\n\u001b[0m\u001b[1;32m   1861\u001b[0m           ctx, args, cancellation_manager=cancellation_manager))\n\u001b[1;32m   1862\u001b[0m     forward_backward = self._select_forward_and_backward_functions(\n",
            "\u001b[0;32m/usr/local/lib/python3.8/dist-packages/tensorflow/python/eager/function.py\u001b[0m in \u001b[0;36mcall\u001b[0;34m(self, ctx, args, cancellation_manager)\u001b[0m\n\u001b[1;32m    495\u001b[0m       \u001b[0;32mwith\u001b[0m \u001b[0m_InterpolateFunctionError\u001b[0m\u001b[0;34m(\u001b[0m\u001b[0mself\u001b[0m\u001b[0;34m)\u001b[0m\u001b[0;34m:\u001b[0m\u001b[0;34m\u001b[0m\u001b[0;34m\u001b[0m\u001b[0m\n\u001b[1;32m    496\u001b[0m         \u001b[0;32mif\u001b[0m \u001b[0mcancellation_manager\u001b[0m \u001b[0;32mis\u001b[0m \u001b[0;32mNone\u001b[0m\u001b[0;34m:\u001b[0m\u001b[0;34m\u001b[0m\u001b[0;34m\u001b[0m\u001b[0m\n\u001b[0;32m--> 497\u001b[0;31m           outputs = execute.execute(\n\u001b[0m\u001b[1;32m    498\u001b[0m               \u001b[0mstr\u001b[0m\u001b[0;34m(\u001b[0m\u001b[0mself\u001b[0m\u001b[0;34m.\u001b[0m\u001b[0msignature\u001b[0m\u001b[0;34m.\u001b[0m\u001b[0mname\u001b[0m\u001b[0;34m)\u001b[0m\u001b[0;34m,\u001b[0m\u001b[0;34m\u001b[0m\u001b[0;34m\u001b[0m\u001b[0m\n\u001b[1;32m    499\u001b[0m               \u001b[0mnum_outputs\u001b[0m\u001b[0;34m=\u001b[0m\u001b[0mself\u001b[0m\u001b[0;34m.\u001b[0m\u001b[0m_num_outputs\u001b[0m\u001b[0;34m,\u001b[0m\u001b[0;34m\u001b[0m\u001b[0;34m\u001b[0m\u001b[0m\n",
            "\u001b[0;32m/usr/local/lib/python3.8/dist-packages/tensorflow/python/eager/execute.py\u001b[0m in \u001b[0;36mquick_execute\u001b[0;34m(op_name, num_outputs, inputs, attrs, ctx, name)\u001b[0m\n\u001b[1;32m     52\u001b[0m   \u001b[0;32mtry\u001b[0m\u001b[0;34m:\u001b[0m\u001b[0;34m\u001b[0m\u001b[0;34m\u001b[0m\u001b[0m\n\u001b[1;32m     53\u001b[0m     \u001b[0mctx\u001b[0m\u001b[0;34m.\u001b[0m\u001b[0mensure_initialized\u001b[0m\u001b[0;34m(\u001b[0m\u001b[0;34m)\u001b[0m\u001b[0;34m\u001b[0m\u001b[0;34m\u001b[0m\u001b[0m\n\u001b[0;32m---> 54\u001b[0;31m     tensors = pywrap_tfe.TFE_Py_Execute(ctx._handle, device_name, op_name,\n\u001b[0m\u001b[1;32m     55\u001b[0m                                         inputs, attrs, num_outputs)\n\u001b[1;32m     56\u001b[0m   \u001b[0;32mexcept\u001b[0m \u001b[0mcore\u001b[0m\u001b[0;34m.\u001b[0m\u001b[0m_NotOkStatusException\u001b[0m \u001b[0;32mas\u001b[0m \u001b[0me\u001b[0m\u001b[0;34m:\u001b[0m\u001b[0;34m\u001b[0m\u001b[0;34m\u001b[0m\u001b[0m\n",
            "\u001b[0;31mKeyboardInterrupt\u001b[0m: "
          ]
        }
      ],
      "source": [
        "efn_base = tf.keras.applications.efficientnet.EfficientNetB5(include_top=False)\n",
        "efn_base.trainable = False\n",
        "\n",
        "\n",
        "inputs = tf.keras.layers.Input(shape=(224,224,3))\n",
        "\n",
        "x = efn_base(inputs)\n",
        "x = tf.keras.layers.GlobalMaxPooling2D()(x)\n",
        "outputs = tf.keras.layers.Dense(150, activation='softmax')(x)\n",
        "\n",
        "efn_model = tf.keras.Model(inputs, outputs)\n",
        "\n",
        "efn_model.compile(loss='categorical_crossentropy',\n",
        "                  optimizer='adam',\n",
        "                  metrics=['accuracy'])\n",
        "\n",
        "tb_efn = create_tensorboard_callbakc('tf_hub', 'efficientnet model')\n",
        "cp_cb_efn = create_checkpoint_callback('efficientnet model')\n",
        "\n",
        "\n",
        "efn_history = efn_model.fit(train_data_2, validation_data=valid_data_2, epochs=50, callbacks=[tb_efn, cp_cb_efn, early_stopping, reduce_lr])"
      ]
    },
    {
      "cell_type": "markdown",
      "metadata": {
        "id": "OFWhbfQiEGeo"
      },
      "source": [
        "#Feature extraction "
      ]
    },
    {
      "cell_type": "code",
      "execution_count": null,
      "metadata": {
        "id": "-xRj2OCTEKLq"
      },
      "outputs": [],
      "source": [
        "import tensorflow_hub as hub\n",
        "\n",
        "resnet_url = \"https://tfhub.dev/google/imagenet/resnet_v2_50/feature_vector/4\"\n",
        "\n",
        "efficientnet_url = \"https://tfhub.dev/tensorflow/efficientnet/b0/feature-vector/1\""
      ]
    },
    {
      "cell_type": "code",
      "execution_count": null,
      "metadata": {
        "id": "86caRF59EdYS"
      },
      "outputs": [],
      "source": [
        "from tensorflow.keras import layers\n",
        "\n",
        "def create_model(model_url, num_classes):\n",
        "  feature_extractor_layer = hub.KerasLayer(model_url, \n",
        "                                           trainable=False, \n",
        "                                           input_shape=(224,224,3),\n",
        "                                           name=\"feature_extractor_layer\")\n",
        "  model = tf.keras.Sequential([\n",
        "      feature_extractor_layer,\n",
        "      layers.Dense(num_classes, activation=\"softmax\", name=\"output_layer\")\n",
        "  ])\n",
        "  return model\n"
      ]
    },
    {
      "cell_type": "code",
      "execution_count": null,
      "metadata": {
        "colab": {
          "background_save": true,
          "base_uri": "https://localhost:8080/"
        },
        "id": "zO_N5oBnEfoN",
        "outputId": "ce0036ba-66af-48f6-ce46-ea6d139995db"
      },
      "outputs": [
        {
          "name": "stdout",
          "output_type": "stream",
          "text": [
            "saving tensorboard log files to: tensorflow_hub/resnet50V2/20230207-181359\n",
            "Epoch 1/5\n",
            "71/71 [==============================] - 872s 12s/step - loss: 4.1133 - accuracy: 0.1933 - val_loss: 2.9365 - val_accuracy: 0.4356\n",
            "Epoch 2/5\n",
            "71/71 [==============================] - 891s 13s/step - loss: 1.7918 - accuracy: 0.7111 - val_loss: 2.1248 - val_accuracy: 0.5911\n",
            "Epoch 3/5\n",
            "71/71 [==============================] - 902s 13s/step - loss: 1.0406 - accuracy: 0.8587 - val_loss: 1.6992 - val_accuracy: 0.6622\n",
            "Epoch 4/5\n",
            "71/71 [==============================] - 875s 12s/step - loss: 0.7053 - accuracy: 0.9133 - val_loss: 1.5399 - val_accuracy: 0.6622\n",
            "Epoch 5/5\n",
            "71/71 [==============================] - 867s 12s/step - loss: 0.5304 - accuracy: 0.9356 - val_loss: 1.3580 - val_accuracy: 0.7156\n"
          ]
        }
      ],
      "source": [
        "resnet_model = create_model(resnet_url, 150)\n",
        "\n",
        "resnet_model.compile(loss=\"categorical_crossentropy\",\n",
        "                     optimizer=\"adam\",\n",
        "                     metrics=[\"accuracy\"])\n",
        "\n",
        "resnet_history = resnet_model.fit(train_data_2,\n",
        "                                  validation_data=valid_data_2, \n",
        "                                  epochs=5, \n",
        "                                  callbacks=[create_tensorboard_callbakc(\"tensorflow_hub\",\n",
        "                                                                         \"resnet50V2\")])"
      ]
    },
    {
      "cell_type": "markdown",
      "metadata": {
        "id": "uetGWqkIEmRr"
      },
      "source": [
        "##EfficientNet"
      ]
    },
    {
      "cell_type": "code",
      "execution_count": null,
      "metadata": {
        "id": "FMJCmc-HEoxX"
      },
      "outputs": [],
      "source": [
        "efn_model = create_model(efficientnet_url, 150)\n",
        "\n",
        "efn_model.compile(loss = \"categorical_crossentropy\",\n",
        "                  optimizer = \"adam\",\n",
        "                  metrics=[\"accuracy\"])\n",
        "\n",
        "rfn_history = efn_model.fit(train_data, epochs = 10, validation_data = test_data, callbacks=[create_tensorboard_callbakc(\"tensorflow_hub\",\n",
        "                                                                         \"efficientnetb0\")])"
      ]
    },
    {
      "cell_type": "code",
      "source": [
        "!tensorboard dev upload --logdir ./tensorflow_hub/ \\\n",
        "  --name \"packaging models\" \\\n",
        "  --description \"fine tuning models on packaging images\" \\\n",
        "  --one_shot"
      ],
      "metadata": {
        "id": "xmGz3k4wgNF9"
      },
      "execution_count": null,
      "outputs": []
    }
  ],
  "metadata": {
    "accelerator": "GPU",
    "colab": {
      "provenance": [],
      "include_colab_link": true
    },
    "gpuClass": "standard",
    "kernelspec": {
      "display_name": "Python 3",
      "name": "python3"
    },
    "language_info": {
      "name": "python"
    }
  },
  "nbformat": 4,
  "nbformat_minor": 0
}