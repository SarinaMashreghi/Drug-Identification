{
  "nbformat": 4,
  "nbformat_minor": 0,
  "metadata": {
    "colab": {
      "provenance": [],
      "include_colab_link": true
    },
    "kernelspec": {
      "name": "python3",
      "display_name": "Python 3"
    },
    "language_info": {
      "name": "python"
    },
    "accelerator": "GPU",
    "gpuClass": "standard"
  },
  "cells": [
    {
      "cell_type": "markdown",
      "metadata": {
        "id": "view-in-github",
        "colab_type": "text"
      },
      "source": [
        "<a href=\"https://colab.research.google.com/github/SarinaMashreghi/Drug-Identification/blob/main/CV%20models/pill_image_identification.ipynb\" target=\"_parent\"><img src=\"https://colab.research.google.com/assets/colab-badge.svg\" alt=\"Open In Colab\"/></a>"
      ]
    },
    {
      "cell_type": "code",
      "execution_count": null,
      "metadata": {
        "colab": {
          "base_uri": "https://localhost:8080/"
        },
        "id": "rHKzyKrNdx_M",
        "outputId": "d32c89c3-b51d-488a-ffc0-6496c88bd6b5"
      },
      "outputs": [
        {
          "output_type": "stream",
          "name": "stdout",
          "text": [
            "Mounted at /content/drive\n"
          ]
        }
      ],
      "source": [
        "from google.colab import drive\n",
        "\n",
        "drive.mount('/content/drive')"
      ]
    },
    {
      "cell_type": "code",
      "source": [
        "!pip install zipfile"
      ],
      "metadata": {
        "colab": {
          "base_uri": "https://localhost:8080/"
        },
        "id": "ZkX7xxPLl-tI",
        "outputId": "7a9219b8-2844-4e7c-c4c3-8f42737bbd25"
      },
      "execution_count": null,
      "outputs": [
        {
          "output_type": "stream",
          "name": "stdout",
          "text": [
            "Looking in indexes: https://pypi.org/simple, https://us-python.pkg.dev/colab-wheels/public/simple/\n",
            "\u001b[31mERROR: Could not find a version that satisfies the requirement zipfile (from versions: none)\u001b[0m\u001b[31m\n",
            "\u001b[0m\u001b[31mERROR: No matching distribution found for zipfile\u001b[0m\u001b[31m\n",
            "\u001b[0m"
          ]
        }
      ]
    },
    {
      "cell_type": "code",
      "source": [
        "import zipfile\n",
        "\n",
        "zip_ref = zipfile.ZipFile(\"/content/drive/MyDrive/SF_data/new_train.zip\")\n",
        "zip_ref.extractall()\n",
        "zip_ref.close()"
      ],
      "metadata": {
        "id": "Mhz3rfXfeJW4"
      },
      "execution_count": null,
      "outputs": []
    },
    {
      "cell_type": "code",
      "source": [
        "import os\n",
        "\n",
        "for dirpath, dirnames, filenames in os.walk(\"new_train\"):\n",
        "  print(f\"there are {len(dirnames)} directories and {len(filenames)} files in {dirpath}\")"
      ],
      "metadata": {
        "colab": {
          "base_uri": "https://localhost:8080/"
        },
        "id": "m0r7wKuNmkjC",
        "outputId": "241c1255-ac29-4047-d900-56fafd73eb38"
      },
      "execution_count": null,
      "outputs": [
        {
          "output_type": "stream",
          "name": "stdout",
          "text": [
            "there are 10 directories and 0 files in new_train\n",
            "there are 0 directories and 700 files in new_train/DayZinc\n",
            "there are 0 directories and 700 files in new_train/Bioflu\n",
            "there are 0 directories and 700 files in new_train/Decolgen\n",
            "there are 0 directories and 700 files in new_train/Fish Oil\n",
            "there are 0 directories and 700 files in new_train/Medicol\n",
            "there are 0 directories and 700 files in new_train/Alaxan\n",
            "there are 0 directories and 700 files in new_train/Biogesic\n",
            "there are 0 directories and 700 files in new_train/Bactidol\n",
            "there are 0 directories and 700 files in new_train/Kremil S\n",
            "there are 0 directories and 700 files in new_train/Neozep\n"
          ]
        }
      ]
    },
    {
      "cell_type": "code",
      "source": [
        "from tensorflow.keras.preprocessing import image_dataset_from_directory\n",
        "\n",
        "IMG_SIZE = (224,224)\n",
        "train_data = image_dataset_from_directory(directory='new_train',\n",
        "                                          validation_split=0.2,\n",
        "                                          subset='training',\n",
        "                                          seed=42,\n",
        "                                          label_mode='categorical',\n",
        "                                          image_size=IMG_SIZE)\n",
        "\n",
        "valid_data = image_dataset_from_directory(directory='new_train',\n",
        "                                          validation_split=0.2,\n",
        "                                          subset='validation',\n",
        "                                          seed=42,\n",
        "                                          label_mode='categorical',\n",
        "                                          image_size=IMG_SIZE)"
      ],
      "metadata": {
        "colab": {
          "base_uri": "https://localhost:8080/"
        },
        "id": "1aEei0EvmyMf",
        "outputId": "46940e1f-b95b-4011-f070-ac32819af95c"
      },
      "execution_count": null,
      "outputs": [
        {
          "output_type": "stream",
          "name": "stdout",
          "text": [
            "Found 7000 files belonging to 10 classes.\n",
            "Using 5600 files for training.\n",
            "Found 7000 files belonging to 10 classes.\n",
            "Using 1400 files for validation.\n"
          ]
        }
      ]
    },
    {
      "cell_type": "code",
      "source": [
        "import datetime\n",
        "import tensorflow as tf\n",
        "\n",
        "def create_tensorboard_callbakc(dir_name, exp_name):\n",
        "  log_dir = dir_name + \"/\" + exp_name + \"/\" + datetime.datetime.now().strftime(\"%Y%m%d-%H%M%S\")\n",
        "  tboard_callback = tf.keras.callbacks.TensorBoard(log_dir=log_dir)\n",
        "  print(f\"saving tensorboard log files to: {log_dir}\")\n",
        "  return tboard_callback"
      ],
      "metadata": {
        "id": "-Vl3usALnQN6"
      },
      "execution_count": null,
      "outputs": []
    },
    {
      "cell_type": "markdown",
      "source": [
        "#ResNet feature extraction"
      ],
      "metadata": {
        "id": "Ze5DbuKUm90j"
      }
    },
    {
      "cell_type": "code",
      "source": [
        "base_model = tf.keras.applications.ResNet50V2(include_top=False)"
      ],
      "metadata": {
        "colab": {
          "base_uri": "https://localhost:8080/"
        },
        "id": "ZA7Qvumropfj",
        "outputId": "29bb1eae-d83a-4485-a97f-d6820e06b7f7"
      },
      "execution_count": null,
      "outputs": [
        {
          "output_type": "stream",
          "name": "stdout",
          "text": [
            "Downloading data from https://storage.googleapis.com/tensorflow/keras-applications/resnet/resnet50v2_weights_tf_dim_ordering_tf_kernels_notop.h5\n",
            "94668760/94668760 [==============================] - 5s 0us/step\n"
          ]
        }
      ]
    },
    {
      "cell_type": "code",
      "source": [
        "base_model.trainable = False\n",
        "\n",
        "inputs = tf.keras.layers.Input(shape=(224,224,3), name=\"input_layer\")\n",
        "\n",
        "x = base_model(inputs)\n",
        "x = tf.keras.layers.GlobalMaxPooling2D(name=\"global_max_pooling_layer\")(x)\n",
        "\n",
        "outputs = tf.keras.layers.Dense(10, activation=\"softmax\", name=\"output_layer\")(x)\n",
        "\n",
        "model_resnet = tf.keras.Model(inputs, outputs)\n",
        "\n",
        "model_resnet.compile(loss=\"categorical_crossentropy\",\n",
        "                optimizer=\"adam\",\n",
        "                metrics=[\"accuracy\"])\n",
        "\n",
        "tb_callback = create_tensorboard_callbakc(\"tensorflow_hub\",\"resnet_V2_fine_tuning\")\n",
        "\n",
        "resnet_history = model_resnet.fit(train_data, epochs=100, validation_data=valid_data, callbacks=[tb_callback])"
      ],
      "metadata": {
        "colab": {
          "base_uri": "https://localhost:8080/"
        },
        "id": "juFjl4bsnARF",
        "outputId": "3f422db0-ba59-4b6e-bc23-08d3b226d3b6"
      },
      "execution_count": null,
      "outputs": [
        {
          "output_type": "stream",
          "name": "stdout",
          "text": [
            "saving tensorboard log files to: tensorflow_hub/resnet_V2_fine_tuning/20230131-025501\n",
            "Epoch 1/100\n",
            "175/175 [==============================] - 32s 123ms/step - loss: 83.9521 - accuracy: 0.1148 - val_loss: 70.9835 - val_accuracy: 0.1057\n",
            "Epoch 2/100\n",
            "175/175 [==============================] - 20s 115ms/step - loss: 64.2359 - accuracy: 0.1200 - val_loss: 80.3848 - val_accuracy: 0.1093\n",
            "Epoch 3/100\n",
            "175/175 [==============================] - 20s 114ms/step - loss: 56.4266 - accuracy: 0.1318 - val_loss: 59.0133 - val_accuracy: 0.1386\n",
            "Epoch 4/100\n",
            "175/175 [==============================] - 20s 114ms/step - loss: 53.0258 - accuracy: 0.1545 - val_loss: 52.7731 - val_accuracy: 0.1300\n",
            "Epoch 5/100\n",
            "175/175 [==============================] - 20s 113ms/step - loss: 51.0557 - accuracy: 0.1645 - val_loss: 73.2908 - val_accuracy: 0.1321\n",
            "Epoch 6/100\n",
            "175/175 [==============================] - 20s 114ms/step - loss: 45.7303 - accuracy: 0.1743 - val_loss: 55.9804 - val_accuracy: 0.1407\n",
            "Epoch 7/100\n",
            "175/175 [==============================] - 20s 114ms/step - loss: 43.5856 - accuracy: 0.1838 - val_loss: 55.2476 - val_accuracy: 0.1186\n",
            "Epoch 8/100\n",
            "175/175 [==============================] - 20s 113ms/step - loss: 39.4829 - accuracy: 0.2071 - val_loss: 57.4693 - val_accuracy: 0.1450\n",
            "Epoch 9/100\n",
            "175/175 [==============================] - 20s 114ms/step - loss: 43.0567 - accuracy: 0.2161 - val_loss: 57.4014 - val_accuracy: 0.1421\n",
            "Epoch 10/100\n",
            "175/175 [==============================] - 20s 115ms/step - loss: 35.0913 - accuracy: 0.2230 - val_loss: 70.9277 - val_accuracy: 0.1164\n",
            "Epoch 11/100\n",
            "175/175 [==============================] - 20s 114ms/step - loss: 40.0630 - accuracy: 0.2179 - val_loss: 48.5340 - val_accuracy: 0.1307\n",
            "Epoch 12/100\n",
            "175/175 [==============================] - 20s 114ms/step - loss: 37.6548 - accuracy: 0.2309 - val_loss: 56.0537 - val_accuracy: 0.1164\n",
            "Epoch 13/100\n",
            "175/175 [==============================] - 20s 114ms/step - loss: 34.5487 - accuracy: 0.2454 - val_loss: 60.6340 - val_accuracy: 0.1357\n",
            "Epoch 14/100\n",
            "175/175 [==============================] - 20s 115ms/step - loss: 35.6294 - accuracy: 0.2429 - val_loss: 44.0351 - val_accuracy: 0.1486\n",
            "Epoch 15/100\n",
            "175/175 [==============================] - 20s 114ms/step - loss: 35.9048 - accuracy: 0.2621 - val_loss: 49.9184 - val_accuracy: 0.1386\n",
            "Epoch 16/100\n",
            "175/175 [==============================] - 20s 114ms/step - loss: 36.1254 - accuracy: 0.2575 - val_loss: 62.2936 - val_accuracy: 0.1500\n",
            "Epoch 17/100\n",
            "175/175 [==============================] - 20s 114ms/step - loss: 32.4826 - accuracy: 0.2780 - val_loss: 46.1046 - val_accuracy: 0.1636\n",
            "Epoch 18/100\n",
            "175/175 [==============================] - 20s 114ms/step - loss: 31.2566 - accuracy: 0.2734 - val_loss: 79.0145 - val_accuracy: 0.1150\n",
            "Epoch 19/100\n",
            "175/175 [==============================] - 21s 116ms/step - loss: 30.7338 - accuracy: 0.2696 - val_loss: 48.4937 - val_accuracy: 0.1400\n",
            "Epoch 20/100\n",
            "175/175 [==============================] - 21s 120ms/step - loss: 32.8236 - accuracy: 0.2825 - val_loss: 40.4649 - val_accuracy: 0.1800\n",
            "Epoch 21/100\n",
            "175/175 [==============================] - 20s 114ms/step - loss: 30.8864 - accuracy: 0.2895 - val_loss: 49.5518 - val_accuracy: 0.1593\n",
            "Epoch 22/100\n",
            "175/175 [==============================] - 20s 113ms/step - loss: 30.0192 - accuracy: 0.2911 - val_loss: 50.8830 - val_accuracy: 0.1607\n",
            "Epoch 23/100\n",
            "175/175 [==============================] - 21s 116ms/step - loss: 36.1069 - accuracy: 0.2912 - val_loss: 47.8907 - val_accuracy: 0.1514\n",
            "Epoch 24/100\n",
            "175/175 [==============================] - 21s 116ms/step - loss: 31.8133 - accuracy: 0.2964 - val_loss: 48.7280 - val_accuracy: 0.1407\n",
            "Epoch 25/100\n",
            "175/175 [==============================] - 20s 116ms/step - loss: 31.7635 - accuracy: 0.2952 - val_loss: 54.2006 - val_accuracy: 0.1714\n",
            "Epoch 26/100\n",
            "175/175 [==============================] - 21s 118ms/step - loss: 28.2185 - accuracy: 0.3257 - val_loss: 44.1740 - val_accuracy: 0.1664\n",
            "Epoch 27/100\n",
            "175/175 [==============================] - 20s 115ms/step - loss: 32.0011 - accuracy: 0.3116 - val_loss: 59.4766 - val_accuracy: 0.1571\n",
            "Epoch 28/100\n",
            "175/175 [==============================] - 20s 116ms/step - loss: 29.6668 - accuracy: 0.3116 - val_loss: 48.4003 - val_accuracy: 0.1714\n",
            "Epoch 29/100\n",
            "175/175 [==============================] - 21s 120ms/step - loss: 30.3332 - accuracy: 0.3096 - val_loss: 58.3884 - val_accuracy: 0.1421\n",
            "Epoch 30/100\n",
            "175/175 [==============================] - 20s 113ms/step - loss: 26.4033 - accuracy: 0.3345 - val_loss: 44.1891 - val_accuracy: 0.1779\n",
            "Epoch 31/100\n",
            "175/175 [==============================] - 21s 121ms/step - loss: 28.1684 - accuracy: 0.3166 - val_loss: 48.1641 - val_accuracy: 0.1714\n",
            "Epoch 32/100\n",
            "175/175 [==============================] - 20s 114ms/step - loss: 30.5371 - accuracy: 0.3175 - val_loss: 48.9841 - val_accuracy: 0.1579\n",
            "Epoch 33/100\n",
            "175/175 [==============================] - 20s 114ms/step - loss: 31.3930 - accuracy: 0.3161 - val_loss: 57.8551 - val_accuracy: 0.1136\n",
            "Epoch 34/100\n",
            "175/175 [==============================] - 20s 115ms/step - loss: 28.3975 - accuracy: 0.3330 - val_loss: 48.6608 - val_accuracy: 0.1764\n",
            "Epoch 35/100\n",
            "175/175 [==============================] - 20s 114ms/step - loss: 26.4044 - accuracy: 0.3439 - val_loss: 51.5307 - val_accuracy: 0.1700\n",
            "Epoch 36/100\n",
            "175/175 [==============================] - 20s 115ms/step - loss: 25.0006 - accuracy: 0.3534 - val_loss: 48.9482 - val_accuracy: 0.1679\n",
            "Epoch 37/100\n",
            "175/175 [==============================] - 21s 117ms/step - loss: 29.9659 - accuracy: 0.3393 - val_loss: 49.7968 - val_accuracy: 0.1614\n",
            "Epoch 38/100\n",
            "175/175 [==============================] - 21s 121ms/step - loss: 24.5377 - accuracy: 0.3655 - val_loss: 46.6661 - val_accuracy: 0.1843\n",
            "Epoch 39/100\n",
            "175/175 [==============================] - 21s 121ms/step - loss: 30.6084 - accuracy: 0.3307 - val_loss: 49.9175 - val_accuracy: 0.1521\n",
            "Epoch 40/100\n",
            "175/175 [==============================] - 21s 116ms/step - loss: 26.4057 - accuracy: 0.3539 - val_loss: 46.9142 - val_accuracy: 0.1850\n",
            "Epoch 41/100\n",
            "175/175 [==============================] - 21s 120ms/step - loss: 25.5770 - accuracy: 0.3618 - val_loss: 57.9914 - val_accuracy: 0.1557\n",
            "Epoch 42/100\n",
            "175/175 [==============================] - 20s 115ms/step - loss: 32.9683 - accuracy: 0.3307 - val_loss: 50.4489 - val_accuracy: 0.1786\n",
            "Epoch 43/100\n",
            "175/175 [==============================] - 20s 113ms/step - loss: 27.7831 - accuracy: 0.3589 - val_loss: 55.6571 - val_accuracy: 0.1764\n",
            "Epoch 44/100\n",
            "175/175 [==============================] - 21s 119ms/step - loss: 29.9463 - accuracy: 0.3518 - val_loss: 67.8743 - val_accuracy: 0.1336\n",
            "Epoch 45/100\n",
            "175/175 [==============================] - 20s 114ms/step - loss: 24.2814 - accuracy: 0.3791 - val_loss: 59.3295 - val_accuracy: 0.1679\n",
            "Epoch 46/100\n",
            "175/175 [==============================] - 22s 122ms/step - loss: 23.3441 - accuracy: 0.3811 - val_loss: 52.8245 - val_accuracy: 0.1736\n",
            "Epoch 47/100\n",
            "175/175 [==============================] - 21s 116ms/step - loss: 25.8450 - accuracy: 0.3657 - val_loss: 46.9130 - val_accuracy: 0.1750\n",
            "Epoch 48/100\n",
            "175/175 [==============================] - 21s 116ms/step - loss: 26.7151 - accuracy: 0.3632 - val_loss: 64.1146 - val_accuracy: 0.1643\n",
            "Epoch 49/100\n",
            "175/175 [==============================] - 22s 121ms/step - loss: 24.1428 - accuracy: 0.3864 - val_loss: 45.8505 - val_accuracy: 0.1757\n",
            "Epoch 50/100\n",
            "175/175 [==============================] - 21s 116ms/step - loss: 24.8813 - accuracy: 0.3807 - val_loss: 49.2109 - val_accuracy: 0.1707\n",
            "Epoch 51/100\n",
            "175/175 [==============================] - 20s 115ms/step - loss: 25.0349 - accuracy: 0.3809 - val_loss: 53.6152 - val_accuracy: 0.1714\n",
            "Epoch 52/100\n",
            "175/175 [==============================] - 20s 114ms/step - loss: 26.7469 - accuracy: 0.3671 - val_loss: 61.1982 - val_accuracy: 0.1436\n",
            "Epoch 53/100\n",
            "175/175 [==============================] - 20s 113ms/step - loss: 22.3176 - accuracy: 0.3866 - val_loss: 50.2003 - val_accuracy: 0.1771\n",
            "Epoch 54/100\n",
            "175/175 [==============================] - 20s 113ms/step - loss: 22.9703 - accuracy: 0.4020 - val_loss: 53.8577 - val_accuracy: 0.1700\n",
            "Epoch 55/100\n",
            "175/175 [==============================] - 20s 114ms/step - loss: 22.4691 - accuracy: 0.3993 - val_loss: 47.8231 - val_accuracy: 0.1693\n",
            "Epoch 56/100\n",
            "175/175 [==============================] - 20s 114ms/step - loss: 25.1728 - accuracy: 0.3843 - val_loss: 51.0134 - val_accuracy: 0.1800\n",
            "Epoch 57/100\n",
            "175/175 [==============================] - 20s 114ms/step - loss: 23.2577 - accuracy: 0.3896 - val_loss: 51.6300 - val_accuracy: 0.1557\n",
            "Epoch 58/100\n",
            "175/175 [==============================] - 20s 113ms/step - loss: 23.7847 - accuracy: 0.3886 - val_loss: 43.5908 - val_accuracy: 0.1979\n",
            "Epoch 59/100\n",
            "175/175 [==============================] - 21s 115ms/step - loss: 26.7167 - accuracy: 0.3848 - val_loss: 47.9241 - val_accuracy: 0.1929\n",
            "Epoch 60/100\n",
            "175/175 [==============================] - 20s 113ms/step - loss: 25.6035 - accuracy: 0.3889 - val_loss: 56.0418 - val_accuracy: 0.1764\n",
            "Epoch 61/100\n",
            "175/175 [==============================] - 20s 114ms/step - loss: 24.1257 - accuracy: 0.4046 - val_loss: 52.5379 - val_accuracy: 0.1943\n",
            "Epoch 62/100\n",
            "175/175 [==============================] - 20s 115ms/step - loss: 23.6912 - accuracy: 0.4077 - val_loss: 56.0117 - val_accuracy: 0.1829\n",
            "Epoch 63/100\n",
            "175/175 [==============================] - 20s 114ms/step - loss: 26.6513 - accuracy: 0.3868 - val_loss: 74.7701 - val_accuracy: 0.1643\n",
            "Epoch 64/100\n",
            "175/175 [==============================] - 20s 114ms/step - loss: 24.9205 - accuracy: 0.3959 - val_loss: 51.8162 - val_accuracy: 0.1893\n",
            "Epoch 65/100\n",
            "175/175 [==============================] - 20s 114ms/step - loss: 23.9931 - accuracy: 0.4093 - val_loss: 84.5487 - val_accuracy: 0.1464\n",
            "Epoch 66/100\n",
            "175/175 [==============================] - 20s 114ms/step - loss: 25.1271 - accuracy: 0.4104 - val_loss: 70.2078 - val_accuracy: 0.1493\n",
            "Epoch 67/100\n",
            "175/175 [==============================] - 20s 114ms/step - loss: 25.6172 - accuracy: 0.3975 - val_loss: 63.2113 - val_accuracy: 0.1543\n",
            "Epoch 68/100\n",
            "175/175 [==============================] - 20s 114ms/step - loss: 21.2536 - accuracy: 0.4184 - val_loss: 59.3612 - val_accuracy: 0.1707\n",
            "Epoch 69/100\n",
            "175/175 [==============================] - 21s 121ms/step - loss: 26.6795 - accuracy: 0.3991 - val_loss: 50.1721 - val_accuracy: 0.1614\n",
            "Epoch 70/100\n",
            "175/175 [==============================] - 20s 114ms/step - loss: 20.3279 - accuracy: 0.4295 - val_loss: 51.3664 - val_accuracy: 0.1850\n",
            "Epoch 71/100\n",
            "175/175 [==============================] - 21s 120ms/step - loss: 20.3274 - accuracy: 0.4354 - val_loss: 60.4990 - val_accuracy: 0.1543\n",
            "Epoch 72/100\n",
            "175/175 [==============================] - 20s 114ms/step - loss: 24.9216 - accuracy: 0.4100 - val_loss: 72.6152 - val_accuracy: 0.1679\n",
            "Epoch 73/100\n",
            "175/175 [==============================] - 20s 114ms/step - loss: 21.4472 - accuracy: 0.4316 - val_loss: 52.2967 - val_accuracy: 0.1971\n",
            "Epoch 74/100\n",
            "175/175 [==============================] - 20s 114ms/step - loss: 24.8156 - accuracy: 0.4109 - val_loss: 58.9405 - val_accuracy: 0.1479\n",
            "Epoch 75/100\n",
            "175/175 [==============================] - 20s 114ms/step - loss: 25.4039 - accuracy: 0.3980 - val_loss: 57.9620 - val_accuracy: 0.1750\n",
            "Epoch 76/100\n",
            "175/175 [==============================] - 20s 115ms/step - loss: 20.8574 - accuracy: 0.4402 - val_loss: 59.6451 - val_accuracy: 0.1764\n",
            "Epoch 77/100\n",
            "175/175 [==============================] - 20s 114ms/step - loss: 22.8011 - accuracy: 0.4193 - val_loss: 69.3291 - val_accuracy: 0.1671\n",
            "Epoch 78/100\n",
            "175/175 [==============================] - 20s 114ms/step - loss: 28.3000 - accuracy: 0.3829 - val_loss: 60.3587 - val_accuracy: 0.2000\n",
            "Epoch 79/100\n",
            "175/175 [==============================] - 20s 114ms/step - loss: 25.4034 - accuracy: 0.4109 - val_loss: 53.8284 - val_accuracy: 0.1929\n",
            "Epoch 80/100\n",
            "175/175 [==============================] - 20s 113ms/step - loss: 24.8081 - accuracy: 0.4246 - val_loss: 58.0316 - val_accuracy: 0.1850\n",
            "Epoch 81/100\n",
            "175/175 [==============================] - 20s 114ms/step - loss: 24.3717 - accuracy: 0.4127 - val_loss: 67.8936 - val_accuracy: 0.1714\n",
            "Epoch 82/100\n",
            "175/175 [==============================] - 20s 114ms/step - loss: 24.7561 - accuracy: 0.4212 - val_loss: 56.4930 - val_accuracy: 0.1871\n",
            "Epoch 83/100\n",
            "175/175 [==============================] - 20s 114ms/step - loss: 23.1998 - accuracy: 0.4261 - val_loss: 63.2229 - val_accuracy: 0.1693\n",
            "Epoch 84/100\n",
            "175/175 [==============================] - 21s 120ms/step - loss: 24.7114 - accuracy: 0.4046 - val_loss: 63.4917 - val_accuracy: 0.1464\n",
            "Epoch 85/100\n",
            "175/175 [==============================] - 20s 114ms/step - loss: 21.7998 - accuracy: 0.4296 - val_loss: 65.5808 - val_accuracy: 0.1879\n",
            "Epoch 86/100\n",
            "175/175 [==============================] - 20s 114ms/step - loss: 24.4959 - accuracy: 0.4173 - val_loss: 51.9276 - val_accuracy: 0.2014\n",
            "Epoch 87/100\n",
            "175/175 [==============================] - 20s 114ms/step - loss: 23.1157 - accuracy: 0.4216 - val_loss: 69.6711 - val_accuracy: 0.1450\n",
            "Epoch 88/100\n",
            "175/175 [==============================] - 20s 113ms/step - loss: 26.1038 - accuracy: 0.4114 - val_loss: 68.7095 - val_accuracy: 0.1543\n",
            "Epoch 89/100\n",
            "175/175 [==============================] - 20s 113ms/step - loss: 22.7229 - accuracy: 0.4386 - val_loss: 74.3860 - val_accuracy: 0.1693\n",
            "Epoch 90/100\n",
            "175/175 [==============================] - 20s 114ms/step - loss: 32.4163 - accuracy: 0.3907 - val_loss: 65.2899 - val_accuracy: 0.1714\n",
            "Epoch 91/100\n",
            "175/175 [==============================] - 20s 114ms/step - loss: 27.7302 - accuracy: 0.4105 - val_loss: 59.4513 - val_accuracy: 0.1879\n",
            "Epoch 92/100\n",
            "175/175 [==============================] - 20s 114ms/step - loss: 19.9065 - accuracy: 0.4588 - val_loss: 54.7107 - val_accuracy: 0.1764\n",
            "Epoch 93/100\n",
            "175/175 [==============================] - 20s 116ms/step - loss: 24.9349 - accuracy: 0.4130 - val_loss: 62.4913 - val_accuracy: 0.1857\n",
            "Epoch 94/100\n",
            "175/175 [==============================] - 20s 114ms/step - loss: 23.6915 - accuracy: 0.4330 - val_loss: 63.3764 - val_accuracy: 0.1607\n",
            "Epoch 95/100\n",
            "175/175 [==============================] - 20s 114ms/step - loss: 19.7306 - accuracy: 0.4568 - val_loss: 66.9532 - val_accuracy: 0.1821\n",
            "Epoch 96/100\n",
            "175/175 [==============================] - 20s 114ms/step - loss: 22.1075 - accuracy: 0.4568 - val_loss: 58.7785 - val_accuracy: 0.1857\n",
            "Epoch 97/100\n",
            "175/175 [==============================] - 20s 114ms/step - loss: 21.0829 - accuracy: 0.4548 - val_loss: 68.8148 - val_accuracy: 0.1757\n",
            "Epoch 98/100\n",
            "175/175 [==============================] - 20s 114ms/step - loss: 28.6034 - accuracy: 0.4173 - val_loss: 58.4164 - val_accuracy: 0.1629\n",
            "Epoch 99/100\n",
            "175/175 [==============================] - 20s 114ms/step - loss: 23.7828 - accuracy: 0.4329 - val_loss: 63.0462 - val_accuracy: 0.2121\n",
            "Epoch 100/100\n",
            "175/175 [==============================] - 20s 114ms/step - loss: 23.1020 - accuracy: 0.4437 - val_loss: 61.8964 - val_accuracy: 0.1886\n"
          ]
        }
      ]
    },
    {
      "cell_type": "code",
      "source": [
        "import pandas as pd\n",
        "pd.DataFrame(resnet_history.history).plot()"
      ],
      "metadata": {
        "colab": {
          "base_uri": "https://localhost:8080/",
          "height": 282
        },
        "id": "kmDXi5xd7blf",
        "outputId": "c12b571e-6c51-425d-d90c-e5da2004a671"
      },
      "execution_count": null,
      "outputs": [
        {
          "output_type": "execute_result",
          "data": {
            "text/plain": [
              "<matplotlib.axes._subplots.AxesSubplot at 0x7ff7820da430>"
            ]
          },
          "metadata": {},
          "execution_count": 15
        },
        {
          "output_type": "display_data",
          "data": {
            "text/plain": [
              "<Figure size 432x288 with 1 Axes>"
            ],
            "image/png": "[encoded data removed]"
          },
          "metadata": {
            "needs_background": "light"
          }
        }
      ]
    },
    {
      "cell_type": "markdown",
      "source": [
        "#EfficientNet"
      ],
      "metadata": {
        "id": "-dH60U27xA8c"
      }
    },
    {
      "cell_type": "code",
      "source": [
        "checkpoint_path = \"/content/drive/MyDrive/SF_data/trained_models/pills_images_checkpoint\"\n",
        "checkpoint_callback = tf.keras.callbacks.ModelCheckpoint(checkpoint_path,\n",
        "                                                         save_weights_only=True, \n",
        "                                                         monitor=\"val_accuracy\", \n",
        "                                                         save_best_only=True)"
      ],
      "metadata": {
        "id": "-qT7woPjxDTm"
      },
      "execution_count": null,
      "outputs": []
    },
    {
      "cell_type": "code",
      "source": [
        "from tensorflow.keras.callbacks import EarlyStopping\n",
        "from tensorflow.keras.callbacks import ReduceLROnPlateau\n",
        "\n",
        "early_stopping = EarlyStopping(monitor='val_accuracy',\n",
        "                                patience=10,\n",
        "                                verbose=1,\n",
        "                                restore_best_weights=True,\n",
        "                                mode='max')\n",
        "\n",
        "reduce_lr = ReduceLROnPlateau(monitor='val_loss', factor=0.5, patience=2, min_lr=0.00001)"
      ],
      "metadata": {
        "id": "WyPofFDYxmb9"
      },
      "execution_count": null,
      "outputs": []
    },
    {
      "cell_type": "markdown",
      "source": [
        "##augmentation layer"
      ],
      "metadata": {
        "id": "e2AfXVjiy-VL"
      }
    },
    {
      "cell_type": "code",
      "source": [
        "from tensorflow.keras.layers.experimental import preprocessing\n",
        "\n",
        "data_aug = tf.keras.Sequential([\n",
        "    preprocessing.RandomFlip('horizontal'),\n",
        "    preprocessing.RandomRotation(0.2),\n",
        "    preprocessing.RandomHeight(0.2),\n",
        "    preprocessing.RandomWidth(0.2),\n",
        "    preprocessing.RandomZoom(0.2)\n",
        "], name=\"data_augmentation_layer\")"
      ],
      "metadata": {
        "id": "NOEG4R8ky-Bn"
      },
      "execution_count": null,
      "outputs": []
    },
    {
      "cell_type": "code",
      "source": [
        "base_model_efn = tf.keras.applications.EfficientNetB0(include_top=False)"
      ],
      "metadata": {
        "colab": {
          "base_uri": "https://localhost:8080/"
        },
        "id": "9ShG5W6p0TMy",
        "outputId": "e03507c4-6e46-455d-8d59-c2e9d1adeab1"
      },
      "execution_count": null,
      "outputs": [
        {
          "output_type": "stream",
          "name": "stdout",
          "text": [
            "Downloading data from https://storage.googleapis.com/keras-applications/efficientnetb0_notop.h5\n",
            "16705208/16705208 [==============================] - 1s 0us/step\n"
          ]
        }
      ]
    },
    {
      "cell_type": "code",
      "source": [
        "inputs = tf.keras.layers.Input(shape=(224,224,3), name=\"input_layer\")\n",
        "# x = data_aug(inputs)\n",
        "x = base_model_efn(inputs, training=False)\n",
        "x = tf.keras.layers.GlobalMaxPooling2D(name=\"global_max_pooling_layer\")(x)\n",
        "# x = tf.keras.layers.Dense(512, kernel_regularizer = tf.keras.regularizers.l2(l = 0.016),activity_regularizer=tf.keras.regularizers.l1(0.006),\n",
        "#                 bias_regularizer=tf.keras.regularizers.l1(0.006) ,activation='leaky_relu')(x)\n",
        "# x = tf.keras.layers.Dropout(rate=0.2)(x)\n",
        "\n",
        "outputs = tf.keras.layers.Dense(10, activation=\"softmax\", name=\"output_layer\")(x)\n",
        "\n",
        "model_efn = tf.keras.Model(inputs, outputs)\n",
        "\n",
        "\n",
        "model_efn.compile(loss=\"categorical_crossentropy\",\n",
        "                optimizer=\"adam\",\n",
        "                metrics=[\"accuracy\"])\n",
        "\n",
        "tb_callback = create_tensorboard_callbakc(\"tensorflow_hub\",\"efficientNetB0_fine_tuning\")\n",
        "\n",
        "efn_history = model_efn.fit(train_data, \n",
        "                             epochs=100, \n",
        "                             validation_data=valid_data, \n",
        "                             callbacks=[tb_callback, early_stopping, reduce_lr, checkpoint_callback])"
      ],
      "metadata": {
        "colab": {
          "base_uri": "https://localhost:8080/"
        },
        "id": "yC5BNCDY0cvV",
        "outputId": "ac18f03e-29ad-4f3d-cc27-f9bf1bdc8d6b"
      },
      "execution_count": null,
      "outputs": [
        {
          "output_type": "stream",
          "name": "stdout",
          "text": [
            "saving tensorboard log files to: tensorflow_hub/efficientNetB0_fine_tuning/20230131-040629\n",
            "Epoch 1/100\n",
            "175/175 [==============================] - 119s 352ms/step - loss: 0.7107 - accuracy: 0.7704 - val_loss: 0.3630 - val_accuracy: 0.9029 - lr: 0.0010\n",
            "Epoch 2/100\n",
            "175/175 [==============================] - 60s 342ms/step - loss: 0.1360 - accuracy: 0.9639 - val_loss: 0.0784 - val_accuracy: 0.9779 - lr: 0.0010\n",
            "Epoch 3/100\n",
            "175/175 [==============================] - 61s 348ms/step - loss: 0.0636 - accuracy: 0.9832 - val_loss: 0.0211 - val_accuracy: 0.9921 - lr: 0.0010\n",
            "Epoch 4/100\n",
            "175/175 [==============================] - 62s 351ms/step - loss: 0.0190 - accuracy: 0.9941 - val_loss: 0.0378 - val_accuracy: 0.9893 - lr: 0.0010\n",
            "Epoch 5/100\n",
            "175/175 [==============================] - 63s 358ms/step - loss: 0.0412 - accuracy: 0.9879 - val_loss: 0.1288 - val_accuracy: 0.9607 - lr: 0.0010\n",
            "Epoch 6/100\n",
            "175/175 [==============================] - 64s 364ms/step - loss: 0.0203 - accuracy: 0.9937 - val_loss: 0.0181 - val_accuracy: 0.9950 - lr: 5.0000e-04\n",
            "Epoch 7/100\n",
            "175/175 [==============================] - 63s 360ms/step - loss: 0.0021 - accuracy: 0.9991 - val_loss: 0.0167 - val_accuracy: 0.9950 - lr: 5.0000e-04\n",
            "Epoch 8/100\n",
            "175/175 [==============================] - 64s 363ms/step - loss: 5.6295e-04 - accuracy: 0.9998 - val_loss: 0.0176 - val_accuracy: 0.9957 - lr: 5.0000e-04\n",
            "Epoch 9/100\n",
            "175/175 [==============================] - 64s 364ms/step - loss: 6.1700e-05 - accuracy: 1.0000 - val_loss: 0.0173 - val_accuracy: 0.9964 - lr: 5.0000e-04\n",
            "Epoch 10/100\n",
            "175/175 [==============================] - 63s 360ms/step - loss: 1.8019e-05 - accuracy: 1.0000 - val_loss: 0.0173 - val_accuracy: 0.9964 - lr: 2.5000e-04\n",
            "Epoch 11/100\n",
            "175/175 [==============================] - 62s 352ms/step - loss: 1.5844e-05 - accuracy: 1.0000 - val_loss: 0.0173 - val_accuracy: 0.9964 - lr: 2.5000e-04\n",
            "Epoch 12/100\n",
            "175/175 [==============================] - 62s 350ms/step - loss: 1.4197e-05 - accuracy: 1.0000 - val_loss: 0.0173 - val_accuracy: 0.9964 - lr: 1.2500e-04\n",
            "Epoch 13/100\n",
            "175/175 [==============================] - 61s 349ms/step - loss: 1.3354e-05 - accuracy: 1.0000 - val_loss: 0.0173 - val_accuracy: 0.9964 - lr: 1.2500e-04\n",
            "Epoch 14/100\n",
            "175/175 [==============================] - 61s 348ms/step - loss: 1.2645e-05 - accuracy: 1.0000 - val_loss: 0.0173 - val_accuracy: 0.9964 - lr: 6.2500e-05\n",
            "Epoch 15/100\n",
            "175/175 [==============================] - 61s 348ms/step - loss: 1.2244e-05 - accuracy: 1.0000 - val_loss: 0.0173 - val_accuracy: 0.9964 - lr: 6.2500e-05\n",
            "Epoch 16/100\n",
            "175/175 [==============================] - 61s 350ms/step - loss: 1.1882e-05 - accuracy: 1.0000 - val_loss: 0.0173 - val_accuracy: 0.9964 - lr: 3.1250e-05\n",
            "Epoch 17/100\n",
            "175/175 [==============================] - 62s 354ms/step - loss: 1.1669e-05 - accuracy: 1.0000 - val_loss: 0.0173 - val_accuracy: 0.9964 - lr: 3.1250e-05\n",
            "Epoch 18/100\n",
            "175/175 [==============================] - 62s 352ms/step - loss: 1.1478e-05 - accuracy: 1.0000 - val_loss: 0.0173 - val_accuracy: 0.9964 - lr: 1.5625e-05\n",
            "Epoch 19/100\n",
            "175/175 [==============================] - ETA: 0s - loss: 1.1363e-05 - accuracy: 1.0000Restoring model weights from the end of the best epoch: 9.\n",
            "175/175 [==============================] - 62s 352ms/step - loss: 1.1363e-05 - accuracy: 1.0000 - val_loss: 0.0173 - val_accuracy: 0.9964 - lr: 1.5625e-05\n",
            "Epoch 19: early stopping\n"
          ]
        }
      ]
    },
    {
      "cell_type": "code",
      "source": [
        "model_efn.evaluate(valid_data)"
      ],
      "metadata": {
        "colab": {
          "base_uri": "https://localhost:8080/"
        },
        "id": "fkKfnF13HrV4",
        "outputId": "d9d761f8-643f-42bf-8821-d152f446b74f"
      },
      "execution_count": null,
      "outputs": [
        {
          "output_type": "stream",
          "name": "stdout",
          "text": [
            "44/44 [==============================] - 3s 68ms/step - loss: 0.0173 - accuracy: 0.9964\n"
          ]
        },
        {
          "output_type": "execute_result",
          "data": {
            "text/plain": [
              "[0.017295176163315773, 0.9964285492897034]"
            ]
          },
          "metadata": {},
          "execution_count": 17
        }
      ]
    },
    {
      "cell_type": "code",
      "source": [
        "model_efn.save('/content/drive/MyDrive/SF_data/trained_models/pill_models/efficientNetB0_test1.h5')"
      ],
      "metadata": {
        "id": "vEFV1Z3aJuoH"
      },
      "execution_count": null,
      "outputs": []
    },
    {
      "cell_type": "markdown",
      "source": [
        "##reloading and testing"
      ],
      "metadata": {
        "id": "-iWchVGMKb3w"
      }
    },
    {
      "cell_type": "code",
      "source": [
        "import tensorflow as tf\n",
        "import tensorflow_hub as hub\n",
        "loaded_model = tf.keras.models.load_model('/content/drive/MyDrive/SF_data/trained_models/packaging_models/efficientnet_model_1.h5', \n",
        "                                          custom_objects={\"kerasLayer\": hub.KerasLayer})"
      ],
      "metadata": {
        "id": "RMveVIwgLFUQ",
        "colab": {
          "base_uri": "https://localhost:8080/",
          "height": 453
        },
        "outputId": "36a96b48-ff58-42a0-bcb0-c1aeef7d22fb"
      },
      "execution_count": null,
      "outputs": [
        {
          "output_type": "error",
          "ename": "ValueError",
          "evalue": "ignored",
          "traceback": [
            "\u001b[0;31m---------------------------------------------------------------------------\u001b[0m",
            "\u001b[0;31mValueError\u001b[0m                                Traceback (most recent call last)",
            "\u001b[0;32m<ipython-input-15-5b01f3252cb0>\u001b[0m in \u001b[0;36m<module>\u001b[0;34m\u001b[0m\n\u001b[1;32m      1\u001b[0m \u001b[0;32mimport\u001b[0m \u001b[0mtensorflow\u001b[0m \u001b[0;32mas\u001b[0m \u001b[0mtf\u001b[0m\u001b[0;34m\u001b[0m\u001b[0;34m\u001b[0m\u001b[0m\n\u001b[1;32m      2\u001b[0m \u001b[0;32mimport\u001b[0m \u001b[0mtensorflow_hub\u001b[0m \u001b[0;32mas\u001b[0m \u001b[0mhub\u001b[0m\u001b[0;34m\u001b[0m\u001b[0;34m\u001b[0m\u001b[0m\n\u001b[0;32m----> 3\u001b[0;31m loaded_model = tf.keras.models.load_model('/content/drive/MyDrive/SF_data/trained_models/packaging_models/efficientnet_model_1.h5', \n\u001b[0m\u001b[1;32m      4\u001b[0m                                           custom_objects={\"kerasLayer\": hub.KerasLayer})\n",
            "\u001b[0;32m/usr/local/lib/python3.8/dist-packages/keras/utils/traceback_utils.py\u001b[0m in \u001b[0;36merror_handler\u001b[0;34m(*args, **kwargs)\u001b[0m\n\u001b[1;32m     68\u001b[0m             \u001b[0;31m# To get the full stack trace, call:\u001b[0m\u001b[0;34m\u001b[0m\u001b[0;34m\u001b[0m\u001b[0;34m\u001b[0m\u001b[0m\n\u001b[1;32m     69\u001b[0m             \u001b[0;31m# `tf.debugging.disable_traceback_filtering()`\u001b[0m\u001b[0;34m\u001b[0m\u001b[0;34m\u001b[0m\u001b[0;34m\u001b[0m\u001b[0m\n\u001b[0;32m---> 70\u001b[0;31m             \u001b[0;32mraise\u001b[0m \u001b[0me\u001b[0m\u001b[0;34m.\u001b[0m\u001b[0mwith_traceback\u001b[0m\u001b[0;34m(\u001b[0m\u001b[0mfiltered_tb\u001b[0m\u001b[0;34m)\u001b[0m \u001b[0;32mfrom\u001b[0m \u001b[0;32mNone\u001b[0m\u001b[0;34m\u001b[0m\u001b[0;34m\u001b[0m\u001b[0m\n\u001b[0m\u001b[1;32m     71\u001b[0m         \u001b[0;32mfinally\u001b[0m\u001b[0;34m:\u001b[0m\u001b[0;34m\u001b[0m\u001b[0;34m\u001b[0m\u001b[0m\n\u001b[1;32m     72\u001b[0m             \u001b[0;32mdel\u001b[0m \u001b[0mfiltered_tb\u001b[0m\u001b[0;34m\u001b[0m\u001b[0;34m\u001b[0m\u001b[0m\n",
            "\u001b[0;32m/usr/local/lib/python3.8/dist-packages/keras/saving/legacy/serialization.py\u001b[0m in \u001b[0;36mclass_and_config_for_serialized_keras_object\u001b[0;34m(config, module_objects, custom_objects, printable_module_name)\u001b[0m\n\u001b[1;32m    383\u001b[0m     )\n\u001b[1;32m    384\u001b[0m     \u001b[0;32mif\u001b[0m \u001b[0mcls\u001b[0m \u001b[0;32mis\u001b[0m \u001b[0;32mNone\u001b[0m\u001b[0;34m:\u001b[0m\u001b[0;34m\u001b[0m\u001b[0;34m\u001b[0m\u001b[0m\n\u001b[0;32m--> 385\u001b[0;31m         raise ValueError(\n\u001b[0m\u001b[1;32m    386\u001b[0m             \u001b[0;34mf\"Unknown {printable_module_name}: '{class_name}'. \"\u001b[0m\u001b[0;34m\u001b[0m\u001b[0;34m\u001b[0m\u001b[0m\n\u001b[1;32m    387\u001b[0m             \u001b[0;34m\"Please ensure you are using a `keras.utils.custom_object_scope` \"\u001b[0m\u001b[0;34m\u001b[0m\u001b[0;34m\u001b[0m\u001b[0m\n",
            "\u001b[0;31mValueError\u001b[0m: Unknown layer: 'KerasLayer'. Please ensure you are using a `keras.utils.custom_object_scope` and that this object is included in the scope. See https://www.tensorflow.org/guide/keras/save_and_serialize#registering_the_custom_object for details."
          ]
        }
      ]
    },
    {
      "cell_type": "code",
      "source": [
        "loaded_model.evaluate(valid_data)"
      ],
      "metadata": {
        "colab": {
          "base_uri": "https://localhost:8080/"
        },
        "id": "ThXuRi-ZLxr6",
        "outputId": "8445d775-d4d9-4540-8ff2-13a98b8698b0"
      },
      "execution_count": null,
      "outputs": [
        {
          "output_type": "stream",
          "name": "stdout",
          "text": [
            "44/44 [==============================] - 84s 2s/step - loss: 0.0173 - accuracy: 0.9964\n"
          ]
        },
        {
          "output_type": "execute_result",
          "data": {
            "text/plain": [
              "[0.017295293509960175, 0.9964285492897034]"
            ]
          },
          "metadata": {},
          "execution_count": 8
        }
      ]
    },
    {
      "cell_type": "code",
      "source": [
        "tf.keras.utils.plot_model(loaded_model)"
      ],
      "metadata": {
        "colab": {
          "base_uri": "https://localhost:8080/",
          "height": 369
        },
        "id": "t8liAOULwESi",
        "outputId": "6af28b5a-714d-45c9-e984-47f38cbd28c2"
      },
      "execution_count": null,
      "outputs": [
        {
          "output_type": "execute_result",
          "data": {
            "image/png": "[encoded data removed]",
            "text/plain": [
              "<IPython.core.display.Image object>"
            ]
          },
          "metadata": {},
          "execution_count": 9
        }
      ]
    },
    {
      "cell_type": "markdown",
      "source": [
        "##TensorBoard callback"
      ],
      "metadata": {
        "id": "CCtar748PAmD"
      }
    },
    {
      "cell_type": "code",
      "source": [
        "!tensorboard dev upload --logdir ./tensorflow_hub/ \\\n",
        "  --name \"efficientNetB0 vs resnetV2\" \\\n",
        "  --description \"fine tuning models on pill images\" \\\n",
        "  --one_shot"
      ],
      "metadata": {
        "colab": {
          "base_uri": "https://localhost:8080/"
        },
        "id": "yOFGwWDrPEZL",
        "outputId": "0c797de8-d07a-4b7d-c4ba-7c4fa63e6be2"
      },
      "execution_count": null,
      "outputs": [
        {
          "output_type": "stream",
          "name": "stdout",
          "text": [
            "\n",
            "***** TensorBoard Uploader *****\n",
            "\n",
            "This will upload your TensorBoard logs to https://tensorboard.dev/ from\n",
            "the following directory:\n",
            "\n",
            "./tensorflow_hub/\n",
            "\n",
            "This TensorBoard will be visible to everyone. Do not upload sensitive\n",
            "data.\n",
            "\n",
            "Your use of this service is subject to Google's Terms of Service\n",
            "<https://policies.google.com/terms> and Privacy Policy\n",
            "<https://policies.google.com/privacy>, and TensorBoard.dev's Terms of Service\n",
            "<https://tensorboard.dev/policy/terms/>.\n",
            "\n",
            "This notice will not be shown again while you are logged into the uploader.\n",
            "To log out, run `tensorboard dev auth revoke`.\n",
            "\n",
            "Continue? (yes/NO) yes\n",
            "\n",
            "Please visit this URL to authorize this application: https://accounts.google.com/o/oauth2/auth?response_type=code&client_id=373649185512-8v619h5kft38l4456nm2dj4ubeqsrvh6.apps.googleusercontent.com&redirect_uri=urn%3Aietf%3Awg%3Aoauth%3A2.0%3Aoob&scope=openid+https%3A%2F%2Fwww.googleapis.com%2Fauth%2Fuserinfo.email&state=w3WcpBcAMdQUSXm4lyMFPyIVgLNZrl&prompt=consent&access_type=offline\n",
            "Enter the authorization code: 4/1AWtgzh4msJNOjAU7NHyOrK-u6Z6I8QwofUxpxmTGvmvakLDbCprWZ2Po_Zo\n",
            "\n",
            "\n",
            "New experiment created. View your TensorBoard at: https://tensorboard.dev/experiment/dhmylM9YRlqbjAf1dpJZBA/\n",
            "\n",
            "\u001b[1m[2023-01-31T05:12:07]\u001b[0m Started scanning logdir.\n",
            "\u001b[1m[2023-01-31T05:12:09]\u001b[0m Total uploaded: 114 scalars, 0 tensors, 1 binary objects (1.0 MB)\n",
            "\u001b[1m[2023-01-31T05:12:09]\u001b[0m Done scanning logdir.\n",
            "\n",
            "\n",
            "Done. View your TensorBoard at https://tensorboard.dev/experiment/dhmylM9YRlqbjAf1dpJZBA/\n"
          ]
        }
      ]
    },
    {
      "cell_type": "markdown",
      "source": [
        "##testing on the whole data"
      ],
      "metadata": {
        "id": "5ibZSJMNSuGq"
      }
    },
    {
      "cell_type": "code",
      "source": [
        "full_train = zipfile.ZipFile('/content/drive/MyDrive/SF_data/pills_complete_data/full_train.zip')\n",
        "full_train.extractall()\n",
        "full_train.close()"
      ],
      "metadata": {
        "id": "UQ9nAYhoSxdh"
      },
      "execution_count": null,
      "outputs": []
    },
    {
      "cell_type": "code",
      "source": [
        "full_test = zipfile.ZipFile('/content/drive/MyDrive/SF_data/pills_complete_data/full_test.zip')\n",
        "full_test.extractall()\n",
        "full_test.close()"
      ],
      "metadata": {
        "id": "6DTkpo_HTeuU"
      },
      "execution_count": null,
      "outputs": []
    },
    {
      "cell_type": "code",
      "source": [
        "train_data_2 = image_dataset_from_directory(directory='full_train',\n",
        "                                            validation_split=0.2,\n",
        "                                            subset='training',\n",
        "                                            seed=42,\n",
        "                                            label_mode='categorical',\n",
        "                                            image_size=IMG_SIZE)\n",
        "\n",
        "valid_data_2 = image_dataset_from_directory(directory='full_train',\n",
        "                                            validation_split=0.2,\n",
        "                                            subset='validation',\n",
        "                                            seed=42,\n",
        "                                            label_mode='categorical',\n",
        "                                            image_size=IMG_SIZE)\n",
        "\n",
        "test_data_2 = image_dataset_from_directory(directory='full_test',\n",
        "                                            seed=42,\n",
        "                                            label_mode='categorical',\n",
        "                                            image_size=IMG_SIZE,\n",
        "                                            shuffle=False)"
      ],
      "metadata": {
        "colab": {
          "base_uri": "https://localhost:8080/"
        },
        "id": "_3ctDJRzTth_",
        "outputId": "f3aed84c-9b53-435b-e49b-2766e4199c39"
      },
      "execution_count": null,
      "outputs": [
        {
          "output_type": "stream",
          "name": "stdout",
          "text": [
            "Found 5600 files belonging to 10 classes.\n",
            "Using 4480 files for training.\n",
            "Found 5600 files belonging to 10 classes.\n",
            "Using 1120 files for validation.\n",
            "Found 1400 files belonging to 10 classes.\n"
          ]
        }
      ]
    },
    {
      "cell_type": "code",
      "source": [
        "base_model_efn = tf.keras.applications.EfficientNetB0(include_top=False)"
      ],
      "metadata": {
        "id": "DAA-1DtAVdQx"
      },
      "execution_count": null,
      "outputs": []
    },
    {
      "cell_type": "code",
      "source": [
        "inputs = tf.keras.layers.Input(shape=(224,224,3), name=\"input_layer\")\n",
        "x = data_aug(inputs)\n",
        "x = base_model_efn(x, training=False)\n",
        "x = tf.keras.layers.GlobalMaxPooling2D(name=\"global_max_pooling_layer\")(x)\n",
        "# x = tf.keras.layers.Dense(512, kernel_regularizer = tf.keras.regularizers.l2(l = 0.016),activity_regularizer=tf.keras.regularizers.l1(0.006),\n",
        "#                 bias_regularizer=tf.keras.regularizers.l1(0.006) ,activation='leaky_relu')(x)\n",
        "# x = tf.keras.layers.Dropout(rate=0.2)(x)\n",
        "\n",
        "outputs = tf.keras.layers.Dense(10, activation=\"softmax\", name=\"output_layer\")(x)\n",
        "\n",
        "model_efn_2 = tf.keras.Model(inputs, outputs)\n",
        "\n",
        "\n",
        "model_efn_2.compile(loss=\"categorical_crossentropy\",\n",
        "                optimizer=\"adam\",\n",
        "                metrics=[\"accuracy\"])\n",
        "\n",
        "tb_callback_2 = create_tensorboard_callbakc(\"tensorflow_hub\",\"efficientNetB0_fine_tuning_2\")\n",
        "\n",
        "efn_history_2 = model_efn_2.fit(train_data_2, \n",
        "                             epochs=5, \n",
        "                             validation_data=valid_data_2, \n",
        "                             callbacks=[tb_callback_2, early_stopping, reduce_lr, checkpoint_callback])"
      ],
      "metadata": {
        "colab": {
          "base_uri": "https://localhost:8080/"
        },
        "id": "2kcZOsLyVilW",
        "outputId": "fa33d625-2f0b-489e-8322-e6736e937d8b"
      },
      "execution_count": null,
      "outputs": [
        {
          "output_type": "stream",
          "name": "stdout",
          "text": [
            "saving tensorboard log files to: tensorflow_hub/efficientNetB0_fine_tuning_2/20230131-060203\n",
            "Epoch 1/5\n",
            "140/140 [==============================] - 84s 545ms/step - loss: 0.1585 - accuracy: 0.9650 - val_loss: 0.1892 - val_accuracy: 0.9598 - lr: 0.0010\n",
            "Epoch 2/5\n",
            "140/140 [==============================] - 70s 494ms/step - loss: 0.0851 - accuracy: 0.9781 - val_loss: 0.3402 - val_accuracy: 0.9277 - lr: 0.0010\n",
            "Epoch 3/5\n",
            "140/140 [==============================] - 73s 518ms/step - loss: 0.0550 - accuracy: 0.9862 - val_loss: 0.0554 - val_accuracy: 0.9866 - lr: 0.0010\n",
            "Epoch 4/5\n",
            "140/140 [==============================] - 69s 492ms/step - loss: 0.4541 - accuracy: 0.8951 - val_loss: 0.2230 - val_accuracy: 0.9312 - lr: 0.0010\n",
            "Epoch 5/5\n",
            "140/140 [==============================] - 69s 491ms/step - loss: 0.1034 - accuracy: 0.9748 - val_loss: 0.0256 - val_accuracy: 0.9911 - lr: 0.0010\n"
          ]
        }
      ]
    },
    {
      "cell_type": "code",
      "source": [
        "model_efn_2.evaluate(test_data_2)"
      ],
      "metadata": {
        "colab": {
          "base_uri": "https://localhost:8080/"
        },
        "id": "EFaL21xQapXT",
        "outputId": "51642509-c947-4bde-a991-fbe47a908f1e"
      },
      "execution_count": null,
      "outputs": [
        {
          "output_type": "stream",
          "name": "stdout",
          "text": [
            "44/44 [==============================] - 3s 70ms/step - loss: 0.0328 - accuracy: 0.9914\n"
          ]
        },
        {
          "output_type": "execute_result",
          "data": {
            "text/plain": [
              "[0.03282739222049713, 0.991428554058075]"
            ]
          },
          "metadata": {},
          "execution_count": 30
        }
      ]
    },
    {
      "cell_type": "code",
      "source": [
        "loaded_model.evaluate(test_data_2)"
      ],
      "metadata": {
        "colab": {
          "base_uri": "https://localhost:8080/"
        },
        "id": "NxqeQvDIcfXT",
        "outputId": "a12b35d6-520a-482d-dc1a-44aa202e7865"
      },
      "execution_count": null,
      "outputs": [
        {
          "output_type": "stream",
          "name": "stdout",
          "text": [
            "44/44 [==============================] - 3s 69ms/step - loss: 0.0053 - accuracy: 0.9993\n"
          ]
        },
        {
          "output_type": "execute_result",
          "data": {
            "text/plain": [
              "[0.005254762247204781, 0.9992856979370117]"
            ]
          },
          "metadata": {},
          "execution_count": 31
        }
      ]
    },
    {
      "cell_type": "code",
      "source": [
        "model_efn_2.save('/content/drive/MyDrive/SF_data/trained_models/pill_models/efficientNetB0_test2.h5')"
      ],
      "metadata": {
        "id": "nb0V9H3jcrSo"
      },
      "execution_count": null,
      "outputs": []
    },
    {
      "cell_type": "code",
      "source": [
        "!tensorboard dev upload --logdir ./tensorflow_hub/ \\\n",
        "  --name \"efficientNetB0 test 2\" \\\n",
        "  --description \"fine tuning models on pill images\" \\\n",
        "  --one_shot"
      ],
      "metadata": {
        "colab": {
          "base_uri": "https://localhost:8080/"
        },
        "id": "7ixwitnGefhm",
        "outputId": "74187b92-c97f-4925-9b0a-875c101c7309"
      },
      "execution_count": null,
      "outputs": [
        {
          "output_type": "stream",
          "name": "stdout",
          "text": [
            "\n",
            "New experiment created. View your TensorBoard at: https://tensorboard.dev/experiment/Uxo8qT2IQfyBgLwYGfG1Kg/\n",
            "\n",
            "\u001b[1m[2023-01-31T06:18:40]\u001b[0m Started scanning logdir.\n",
            "\u001b[1m[2023-01-31T06:18:45]\u001b[0m Total uploaded: 204 scalars, 0 tensors, 3 binary objects (3.3 MB)\n",
            "\u001b[1m[2023-01-31T06:18:45]\u001b[0m Done scanning logdir.\n",
            "\n",
            "\n",
            "Done. View your TensorBoard at https://tensorboard.dev/experiment/Uxo8qT2IQfyBgLwYGfG1Kg/\n"
          ]
        }
      ]
    },
    {
      "cell_type": "code",
      "source": [
        "import matplotlib.pyplot as plt\n",
        "import random \n",
        "import numpy as np\n",
        "import os\n",
        "plt.figure(figsize=(20, 10))\n",
        "classes = os.listdir(\"new_train\")\n",
        "for i in range(1, 8):\n",
        "    # Take next batch.\n",
        "    img = train_data\n",
        "    # Take random image from batch.\n",
        "    random_image = random.randint(0, 31)\n",
        "    # Save '1' from OHE defined class. It will title.\n",
        "    index_to_name = np.argmax([img[1][random_image]])\n",
        "    # Define 'place' for image\n",
        "    plt.subplot(1, 5, i)\n",
        "    # Draw an image and title.\n",
        "    plt.imshow(img[0][random_image])\n",
        "    plt.title(classes[index_to_name], fontsize=20)\n",
        "    plt.xticks([])\n",
        "    plt.yticks([])\n",
        "plt.show()"
      ],
      "metadata": {
        "colab": {
          "base_uri": "https://localhost:8080/",
          "height": 253
        },
        "id": "OTYzeR6iuULD",
        "outputId": "48b9e900-5339-41d2-a8b9-eafefe8c07e3"
      },
      "execution_count": null,
      "outputs": [
        {
          "output_type": "error",
          "ename": "TypeError",
          "evalue": "ignored",
          "traceback": [
            "\u001b[0;31m---------------------------------------------------------------------------\u001b[0m",
            "\u001b[0;31mTypeError\u001b[0m                                 Traceback (most recent call last)",
            "\u001b[0;32m<ipython-input-6-e5a5f36e92ca>\u001b[0m in \u001b[0;36m<module>\u001b[0;34m\u001b[0m\n\u001b[1;32m      7\u001b[0m \u001b[0;32mfor\u001b[0m \u001b[0mi\u001b[0m \u001b[0;32min\u001b[0m \u001b[0mrange\u001b[0m\u001b[0;34m(\u001b[0m\u001b[0;36m1\u001b[0m\u001b[0;34m,\u001b[0m \u001b[0;36m8\u001b[0m\u001b[0;34m)\u001b[0m\u001b[0;34m:\u001b[0m\u001b[0;34m\u001b[0m\u001b[0;34m\u001b[0m\u001b[0m\n\u001b[1;32m      8\u001b[0m     \u001b[0;31m# Take next batch.\u001b[0m\u001b[0;34m\u001b[0m\u001b[0;34m\u001b[0m\u001b[0;34m\u001b[0m\u001b[0m\n\u001b[0;32m----> 9\u001b[0;31m     \u001b[0mimg\u001b[0m \u001b[0;34m=\u001b[0m \u001b[0mtrain_data\u001b[0m\u001b[0;34m[\u001b[0m\u001b[0mi\u001b[0m\u001b[0;34m]\u001b[0m\u001b[0;34m\u001b[0m\u001b[0;34m\u001b[0m\u001b[0m\n\u001b[0m\u001b[1;32m     10\u001b[0m     \u001b[0;31m# Take random image from batch.\u001b[0m\u001b[0;34m\u001b[0m\u001b[0;34m\u001b[0m\u001b[0;34m\u001b[0m\u001b[0m\n\u001b[1;32m     11\u001b[0m     \u001b[0mrandom_image\u001b[0m \u001b[0;34m=\u001b[0m \u001b[0mrandom\u001b[0m\u001b[0;34m.\u001b[0m\u001b[0mrandint\u001b[0m\u001b[0;34m(\u001b[0m\u001b[0;36m0\u001b[0m\u001b[0;34m,\u001b[0m \u001b[0;36m31\u001b[0m\u001b[0;34m)\u001b[0m\u001b[0;34m\u001b[0m\u001b[0;34m\u001b[0m\u001b[0m\n",
            "\u001b[0;31mTypeError\u001b[0m: 'BatchDataset' object is not subscriptable"
          ]
        },
        {
          "output_type": "display_data",
          "data": {
            "text/plain": [
              "<Figure size 1440x720 with 0 Axes>"
            ]
          },
          "metadata": {}
        }
      ]
    }
  ]
}